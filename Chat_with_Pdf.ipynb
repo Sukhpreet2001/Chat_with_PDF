{
  "nbformat": 4,
  "nbformat_minor": 0,
  "metadata": {
    "colab": {
      "provenance": [],
      "gpuType": "T4",
      "mount_file_id": "1fmK_-lPDJWeXLikoatZ8FUFwpBNWELWZ",
      "authorship_tag": "ABX9TyPlH/NRct2qBRrWwFRB/tAS"
    },
    "kernelspec": {
      "name": "python3",
      "display_name": "Python 3"
    },
    "language_info": {
      "name": "python"
    },
    "accelerator": "GPU",
    "widgets": {
      "application/vnd.jupyter.widget-state+json": {
        "9db19659e2044bea9935774277895007": {
          "model_module": "@jupyter-widgets/controls",
          "model_name": "VBoxModel",
          "model_module_version": "1.5.0",
          "state": {
            "_dom_classes": [],
            "_model_module": "@jupyter-widgets/controls",
            "_model_module_version": "1.5.0",
            "_model_name": "VBoxModel",
            "_view_count": null,
            "_view_module": "@jupyter-widgets/controls",
            "_view_module_version": "1.5.0",
            "_view_name": "VBoxView",
            "box_style": "",
            "children": [
              "IPY_MODEL_5b1bcea738294189a7e700bc87c1024a",
              "IPY_MODEL_6855b430b58d44d581cc0704b5584aa5",
              "IPY_MODEL_dfc2e9e005064574a8d298423b8da2b3"
            ],
            "layout": "IPY_MODEL_b512743f21994b4fa1349689985d9b5f"
          }
        },
        "c96082268981421398b4226f71d66d3f": {
          "model_module": "@jupyter-widgets/controls",
          "model_name": "HTMLModel",
          "model_module_version": "1.5.0",
          "state": {
            "_dom_classes": [],
            "_model_module": "@jupyter-widgets/controls",
            "_model_module_version": "1.5.0",
            "_model_name": "HTMLModel",
            "_view_count": null,
            "_view_module": "@jupyter-widgets/controls",
            "_view_module_version": "1.5.0",
            "_view_name": "HTMLView",
            "description": "",
            "description_tooltip": null,
            "layout": "IPY_MODEL_a6ccd625a0424b7c9abb39842274ea48",
            "placeholder": "​",
            "style": "IPY_MODEL_cbdd77f3ef0f4199b07d678e0687312e",
            "value": "<center> <img\nsrc=https://huggingface.co/front/assets/huggingface_logo-noborder.svg\nalt='Hugging Face'> <br> Copy a token from <a\nhref=\"https://huggingface.co/settings/tokens\" target=\"_blank\">your Hugging Face\ntokens page</a> and paste it below. <br> Immediately click login after copying\nyour token or it might be stored in plain text in this notebook file. </center>"
          }
        },
        "03cfd1aef0274073a1c40c27531dc335": {
          "model_module": "@jupyter-widgets/controls",
          "model_name": "PasswordModel",
          "model_module_version": "1.5.0",
          "state": {
            "_dom_classes": [],
            "_model_module": "@jupyter-widgets/controls",
            "_model_module_version": "1.5.0",
            "_model_name": "PasswordModel",
            "_view_count": null,
            "_view_module": "@jupyter-widgets/controls",
            "_view_module_version": "1.5.0",
            "_view_name": "PasswordView",
            "continuous_update": true,
            "description": "Token:",
            "description_tooltip": null,
            "disabled": false,
            "layout": "IPY_MODEL_d9c759822f4d475fb8bef5ff19797c54",
            "placeholder": "​",
            "style": "IPY_MODEL_5c5370218fa2461ba41b20dbf10c04f4",
            "value": ""
          }
        },
        "36a073acde9a4d6691cb80803b68bc81": {
          "model_module": "@jupyter-widgets/controls",
          "model_name": "CheckboxModel",
          "model_module_version": "1.5.0",
          "state": {
            "_dom_classes": [],
            "_model_module": "@jupyter-widgets/controls",
            "_model_module_version": "1.5.0",
            "_model_name": "CheckboxModel",
            "_view_count": null,
            "_view_module": "@jupyter-widgets/controls",
            "_view_module_version": "1.5.0",
            "_view_name": "CheckboxView",
            "description": "Add token as git credential?",
            "description_tooltip": null,
            "disabled": false,
            "indent": true,
            "layout": "IPY_MODEL_161f8b69e44c406e8aa674567e96c4ed",
            "style": "IPY_MODEL_c13bad15c24947838f87841f0e0b0e9f",
            "value": false
          }
        },
        "2e26f1bc2131412c86195b9539c5b9f5": {
          "model_module": "@jupyter-widgets/controls",
          "model_name": "ButtonModel",
          "model_module_version": "1.5.0",
          "state": {
            "_dom_classes": [],
            "_model_module": "@jupyter-widgets/controls",
            "_model_module_version": "1.5.0",
            "_model_name": "ButtonModel",
            "_view_count": null,
            "_view_module": "@jupyter-widgets/controls",
            "_view_module_version": "1.5.0",
            "_view_name": "ButtonView",
            "button_style": "",
            "description": "Login",
            "disabled": false,
            "icon": "",
            "layout": "IPY_MODEL_4a071d8bf4a14352ab5416ab30d19d14",
            "style": "IPY_MODEL_0f8b067968d649308c5c2d1a6da5d062",
            "tooltip": ""
          }
        },
        "0c2db9c5a1fd4bb99f13a3bf535beca3": {
          "model_module": "@jupyter-widgets/controls",
          "model_name": "HTMLModel",
          "model_module_version": "1.5.0",
          "state": {
            "_dom_classes": [],
            "_model_module": "@jupyter-widgets/controls",
            "_model_module_version": "1.5.0",
            "_model_name": "HTMLModel",
            "_view_count": null,
            "_view_module": "@jupyter-widgets/controls",
            "_view_module_version": "1.5.0",
            "_view_name": "HTMLView",
            "description": "",
            "description_tooltip": null,
            "layout": "IPY_MODEL_543a0986c1d34e70a5206118eb2901a9",
            "placeholder": "​",
            "style": "IPY_MODEL_dbb0b3ccbcef4bb5babf6ff08da8ceb7",
            "value": "\n<b>Pro Tip:</b> If you don't already have one, you can create a dedicated\n'notebooks' token with 'write' access, that you can then easily reuse for all\nnotebooks. </center>"
          }
        },
        "b512743f21994b4fa1349689985d9b5f": {
          "model_module": "@jupyter-widgets/base",
          "model_name": "LayoutModel",
          "model_module_version": "1.2.0",
          "state": {
            "_model_module": "@jupyter-widgets/base",
            "_model_module_version": "1.2.0",
            "_model_name": "LayoutModel",
            "_view_count": null,
            "_view_module": "@jupyter-widgets/base",
            "_view_module_version": "1.2.0",
            "_view_name": "LayoutView",
            "align_content": null,
            "align_items": "center",
            "align_self": null,
            "border": null,
            "bottom": null,
            "display": "flex",
            "flex": null,
            "flex_flow": "column",
            "grid_area": null,
            "grid_auto_columns": null,
            "grid_auto_flow": null,
            "grid_auto_rows": null,
            "grid_column": null,
            "grid_gap": null,
            "grid_row": null,
            "grid_template_areas": null,
            "grid_template_columns": null,
            "grid_template_rows": null,
            "height": null,
            "justify_content": null,
            "justify_items": null,
            "left": null,
            "margin": null,
            "max_height": null,
            "max_width": null,
            "min_height": null,
            "min_width": null,
            "object_fit": null,
            "object_position": null,
            "order": null,
            "overflow": null,
            "overflow_x": null,
            "overflow_y": null,
            "padding": null,
            "right": null,
            "top": null,
            "visibility": null,
            "width": "50%"
          }
        },
        "a6ccd625a0424b7c9abb39842274ea48": {
          "model_module": "@jupyter-widgets/base",
          "model_name": "LayoutModel",
          "model_module_version": "1.2.0",
          "state": {
            "_model_module": "@jupyter-widgets/base",
            "_model_module_version": "1.2.0",
            "_model_name": "LayoutModel",
            "_view_count": null,
            "_view_module": "@jupyter-widgets/base",
            "_view_module_version": "1.2.0",
            "_view_name": "LayoutView",
            "align_content": null,
            "align_items": null,
            "align_self": null,
            "border": null,
            "bottom": null,
            "display": null,
            "flex": null,
            "flex_flow": null,
            "grid_area": null,
            "grid_auto_columns": null,
            "grid_auto_flow": null,
            "grid_auto_rows": null,
            "grid_column": null,
            "grid_gap": null,
            "grid_row": null,
            "grid_template_areas": null,
            "grid_template_columns": null,
            "grid_template_rows": null,
            "height": null,
            "justify_content": null,
            "justify_items": null,
            "left": null,
            "margin": null,
            "max_height": null,
            "max_width": null,
            "min_height": null,
            "min_width": null,
            "object_fit": null,
            "object_position": null,
            "order": null,
            "overflow": null,
            "overflow_x": null,
            "overflow_y": null,
            "padding": null,
            "right": null,
            "top": null,
            "visibility": null,
            "width": null
          }
        },
        "cbdd77f3ef0f4199b07d678e0687312e": {
          "model_module": "@jupyter-widgets/controls",
          "model_name": "DescriptionStyleModel",
          "model_module_version": "1.5.0",
          "state": {
            "_model_module": "@jupyter-widgets/controls",
            "_model_module_version": "1.5.0",
            "_model_name": "DescriptionStyleModel",
            "_view_count": null,
            "_view_module": "@jupyter-widgets/base",
            "_view_module_version": "1.2.0",
            "_view_name": "StyleView",
            "description_width": ""
          }
        },
        "d9c759822f4d475fb8bef5ff19797c54": {
          "model_module": "@jupyter-widgets/base",
          "model_name": "LayoutModel",
          "model_module_version": "1.2.0",
          "state": {
            "_model_module": "@jupyter-widgets/base",
            "_model_module_version": "1.2.0",
            "_model_name": "LayoutModel",
            "_view_count": null,
            "_view_module": "@jupyter-widgets/base",
            "_view_module_version": "1.2.0",
            "_view_name": "LayoutView",
            "align_content": null,
            "align_items": null,
            "align_self": null,
            "border": null,
            "bottom": null,
            "display": null,
            "flex": null,
            "flex_flow": null,
            "grid_area": null,
            "grid_auto_columns": null,
            "grid_auto_flow": null,
            "grid_auto_rows": null,
            "grid_column": null,
            "grid_gap": null,
            "grid_row": null,
            "grid_template_areas": null,
            "grid_template_columns": null,
            "grid_template_rows": null,
            "height": null,
            "justify_content": null,
            "justify_items": null,
            "left": null,
            "margin": null,
            "max_height": null,
            "max_width": null,
            "min_height": null,
            "min_width": null,
            "object_fit": null,
            "object_position": null,
            "order": null,
            "overflow": null,
            "overflow_x": null,
            "overflow_y": null,
            "padding": null,
            "right": null,
            "top": null,
            "visibility": null,
            "width": null
          }
        },
        "5c5370218fa2461ba41b20dbf10c04f4": {
          "model_module": "@jupyter-widgets/controls",
          "model_name": "DescriptionStyleModel",
          "model_module_version": "1.5.0",
          "state": {
            "_model_module": "@jupyter-widgets/controls",
            "_model_module_version": "1.5.0",
            "_model_name": "DescriptionStyleModel",
            "_view_count": null,
            "_view_module": "@jupyter-widgets/base",
            "_view_module_version": "1.2.0",
            "_view_name": "StyleView",
            "description_width": ""
          }
        },
        "161f8b69e44c406e8aa674567e96c4ed": {
          "model_module": "@jupyter-widgets/base",
          "model_name": "LayoutModel",
          "model_module_version": "1.2.0",
          "state": {
            "_model_module": "@jupyter-widgets/base",
            "_model_module_version": "1.2.0",
            "_model_name": "LayoutModel",
            "_view_count": null,
            "_view_module": "@jupyter-widgets/base",
            "_view_module_version": "1.2.0",
            "_view_name": "LayoutView",
            "align_content": null,
            "align_items": null,
            "align_self": null,
            "border": null,
            "bottom": null,
            "display": null,
            "flex": null,
            "flex_flow": null,
            "grid_area": null,
            "grid_auto_columns": null,
            "grid_auto_flow": null,
            "grid_auto_rows": null,
            "grid_column": null,
            "grid_gap": null,
            "grid_row": null,
            "grid_template_areas": null,
            "grid_template_columns": null,
            "grid_template_rows": null,
            "height": null,
            "justify_content": null,
            "justify_items": null,
            "left": null,
            "margin": null,
            "max_height": null,
            "max_width": null,
            "min_height": null,
            "min_width": null,
            "object_fit": null,
            "object_position": null,
            "order": null,
            "overflow": null,
            "overflow_x": null,
            "overflow_y": null,
            "padding": null,
            "right": null,
            "top": null,
            "visibility": null,
            "width": null
          }
        },
        "c13bad15c24947838f87841f0e0b0e9f": {
          "model_module": "@jupyter-widgets/controls",
          "model_name": "DescriptionStyleModel",
          "model_module_version": "1.5.0",
          "state": {
            "_model_module": "@jupyter-widgets/controls",
            "_model_module_version": "1.5.0",
            "_model_name": "DescriptionStyleModel",
            "_view_count": null,
            "_view_module": "@jupyter-widgets/base",
            "_view_module_version": "1.2.0",
            "_view_name": "StyleView",
            "description_width": ""
          }
        },
        "4a071d8bf4a14352ab5416ab30d19d14": {
          "model_module": "@jupyter-widgets/base",
          "model_name": "LayoutModel",
          "model_module_version": "1.2.0",
          "state": {
            "_model_module": "@jupyter-widgets/base",
            "_model_module_version": "1.2.0",
            "_model_name": "LayoutModel",
            "_view_count": null,
            "_view_module": "@jupyter-widgets/base",
            "_view_module_version": "1.2.0",
            "_view_name": "LayoutView",
            "align_content": null,
            "align_items": null,
            "align_self": null,
            "border": null,
            "bottom": null,
            "display": null,
            "flex": null,
            "flex_flow": null,
            "grid_area": null,
            "grid_auto_columns": null,
            "grid_auto_flow": null,
            "grid_auto_rows": null,
            "grid_column": null,
            "grid_gap": null,
            "grid_row": null,
            "grid_template_areas": null,
            "grid_template_columns": null,
            "grid_template_rows": null,
            "height": null,
            "justify_content": null,
            "justify_items": null,
            "left": null,
            "margin": null,
            "max_height": null,
            "max_width": null,
            "min_height": null,
            "min_width": null,
            "object_fit": null,
            "object_position": null,
            "order": null,
            "overflow": null,
            "overflow_x": null,
            "overflow_y": null,
            "padding": null,
            "right": null,
            "top": null,
            "visibility": null,
            "width": null
          }
        },
        "0f8b067968d649308c5c2d1a6da5d062": {
          "model_module": "@jupyter-widgets/controls",
          "model_name": "ButtonStyleModel",
          "model_module_version": "1.5.0",
          "state": {
            "_model_module": "@jupyter-widgets/controls",
            "_model_module_version": "1.5.0",
            "_model_name": "ButtonStyleModel",
            "_view_count": null,
            "_view_module": "@jupyter-widgets/base",
            "_view_module_version": "1.2.0",
            "_view_name": "StyleView",
            "button_color": null,
            "font_weight": ""
          }
        },
        "543a0986c1d34e70a5206118eb2901a9": {
          "model_module": "@jupyter-widgets/base",
          "model_name": "LayoutModel",
          "model_module_version": "1.2.0",
          "state": {
            "_model_module": "@jupyter-widgets/base",
            "_model_module_version": "1.2.0",
            "_model_name": "LayoutModel",
            "_view_count": null,
            "_view_module": "@jupyter-widgets/base",
            "_view_module_version": "1.2.0",
            "_view_name": "LayoutView",
            "align_content": null,
            "align_items": null,
            "align_self": null,
            "border": null,
            "bottom": null,
            "display": null,
            "flex": null,
            "flex_flow": null,
            "grid_area": null,
            "grid_auto_columns": null,
            "grid_auto_flow": null,
            "grid_auto_rows": null,
            "grid_column": null,
            "grid_gap": null,
            "grid_row": null,
            "grid_template_areas": null,
            "grid_template_columns": null,
            "grid_template_rows": null,
            "height": null,
            "justify_content": null,
            "justify_items": null,
            "left": null,
            "margin": null,
            "max_height": null,
            "max_width": null,
            "min_height": null,
            "min_width": null,
            "object_fit": null,
            "object_position": null,
            "order": null,
            "overflow": null,
            "overflow_x": null,
            "overflow_y": null,
            "padding": null,
            "right": null,
            "top": null,
            "visibility": null,
            "width": null
          }
        },
        "dbb0b3ccbcef4bb5babf6ff08da8ceb7": {
          "model_module": "@jupyter-widgets/controls",
          "model_name": "DescriptionStyleModel",
          "model_module_version": "1.5.0",
          "state": {
            "_model_module": "@jupyter-widgets/controls",
            "_model_module_version": "1.5.0",
            "_model_name": "DescriptionStyleModel",
            "_view_count": null,
            "_view_module": "@jupyter-widgets/base",
            "_view_module_version": "1.2.0",
            "_view_name": "StyleView",
            "description_width": ""
          }
        },
        "6829eb0715e74cafa5304a23a29e475d": {
          "model_module": "@jupyter-widgets/controls",
          "model_name": "LabelModel",
          "model_module_version": "1.5.0",
          "state": {
            "_dom_classes": [],
            "_model_module": "@jupyter-widgets/controls",
            "_model_module_version": "1.5.0",
            "_model_name": "LabelModel",
            "_view_count": null,
            "_view_module": "@jupyter-widgets/controls",
            "_view_module_version": "1.5.0",
            "_view_name": "LabelView",
            "description": "",
            "description_tooltip": null,
            "layout": "IPY_MODEL_c429a0d8e9324473b2ceaba90701eb83",
            "placeholder": "​",
            "style": "IPY_MODEL_9885d2c8352747c8be27984d07f539e7",
            "value": "Connecting..."
          }
        },
        "c429a0d8e9324473b2ceaba90701eb83": {
          "model_module": "@jupyter-widgets/base",
          "model_name": "LayoutModel",
          "model_module_version": "1.2.0",
          "state": {
            "_model_module": "@jupyter-widgets/base",
            "_model_module_version": "1.2.0",
            "_model_name": "LayoutModel",
            "_view_count": null,
            "_view_module": "@jupyter-widgets/base",
            "_view_module_version": "1.2.0",
            "_view_name": "LayoutView",
            "align_content": null,
            "align_items": null,
            "align_self": null,
            "border": null,
            "bottom": null,
            "display": null,
            "flex": null,
            "flex_flow": null,
            "grid_area": null,
            "grid_auto_columns": null,
            "grid_auto_flow": null,
            "grid_auto_rows": null,
            "grid_column": null,
            "grid_gap": null,
            "grid_row": null,
            "grid_template_areas": null,
            "grid_template_columns": null,
            "grid_template_rows": null,
            "height": null,
            "justify_content": null,
            "justify_items": null,
            "left": null,
            "margin": null,
            "max_height": null,
            "max_width": null,
            "min_height": null,
            "min_width": null,
            "object_fit": null,
            "object_position": null,
            "order": null,
            "overflow": null,
            "overflow_x": null,
            "overflow_y": null,
            "padding": null,
            "right": null,
            "top": null,
            "visibility": null,
            "width": null
          }
        },
        "9885d2c8352747c8be27984d07f539e7": {
          "model_module": "@jupyter-widgets/controls",
          "model_name": "DescriptionStyleModel",
          "model_module_version": "1.5.0",
          "state": {
            "_model_module": "@jupyter-widgets/controls",
            "_model_module_version": "1.5.0",
            "_model_name": "DescriptionStyleModel",
            "_view_count": null,
            "_view_module": "@jupyter-widgets/base",
            "_view_module_version": "1.2.0",
            "_view_name": "StyleView",
            "description_width": ""
          }
        },
        "5b1bcea738294189a7e700bc87c1024a": {
          "model_module": "@jupyter-widgets/controls",
          "model_name": "LabelModel",
          "model_module_version": "1.5.0",
          "state": {
            "_dom_classes": [],
            "_model_module": "@jupyter-widgets/controls",
            "_model_module_version": "1.5.0",
            "_model_name": "LabelModel",
            "_view_count": null,
            "_view_module": "@jupyter-widgets/controls",
            "_view_module_version": "1.5.0",
            "_view_name": "LabelView",
            "description": "",
            "description_tooltip": null,
            "layout": "IPY_MODEL_3b8fbf2d82464012ba82d7e8915def1c",
            "placeholder": "​",
            "style": "IPY_MODEL_1304e08472154cae817ec2e348c67e41",
            "value": "Token is valid (permission: read)."
          }
        },
        "6855b430b58d44d581cc0704b5584aa5": {
          "model_module": "@jupyter-widgets/controls",
          "model_name": "LabelModel",
          "model_module_version": "1.5.0",
          "state": {
            "_dom_classes": [],
            "_model_module": "@jupyter-widgets/controls",
            "_model_module_version": "1.5.0",
            "_model_name": "LabelModel",
            "_view_count": null,
            "_view_module": "@jupyter-widgets/controls",
            "_view_module_version": "1.5.0",
            "_view_name": "LabelView",
            "description": "",
            "description_tooltip": null,
            "layout": "IPY_MODEL_02f213d83359456b97cf5536c14a384c",
            "placeholder": "​",
            "style": "IPY_MODEL_ff27239d8dfc4819b007ba7baed7ab05",
            "value": "Your token has been saved to /root/.cache/huggingface/token"
          }
        },
        "dfc2e9e005064574a8d298423b8da2b3": {
          "model_module": "@jupyter-widgets/controls",
          "model_name": "LabelModel",
          "model_module_version": "1.5.0",
          "state": {
            "_dom_classes": [],
            "_model_module": "@jupyter-widgets/controls",
            "_model_module_version": "1.5.0",
            "_model_name": "LabelModel",
            "_view_count": null,
            "_view_module": "@jupyter-widgets/controls",
            "_view_module_version": "1.5.0",
            "_view_name": "LabelView",
            "description": "",
            "description_tooltip": null,
            "layout": "IPY_MODEL_f246164a189544d291c3af5099639a98",
            "placeholder": "​",
            "style": "IPY_MODEL_98dc451dad254a4ab60159ceb7ae15bb",
            "value": "Login successful"
          }
        },
        "3b8fbf2d82464012ba82d7e8915def1c": {
          "model_module": "@jupyter-widgets/base",
          "model_name": "LayoutModel",
          "model_module_version": "1.2.0",
          "state": {
            "_model_module": "@jupyter-widgets/base",
            "_model_module_version": "1.2.0",
            "_model_name": "LayoutModel",
            "_view_count": null,
            "_view_module": "@jupyter-widgets/base",
            "_view_module_version": "1.2.0",
            "_view_name": "LayoutView",
            "align_content": null,
            "align_items": null,
            "align_self": null,
            "border": null,
            "bottom": null,
            "display": null,
            "flex": null,
            "flex_flow": null,
            "grid_area": null,
            "grid_auto_columns": null,
            "grid_auto_flow": null,
            "grid_auto_rows": null,
            "grid_column": null,
            "grid_gap": null,
            "grid_row": null,
            "grid_template_areas": null,
            "grid_template_columns": null,
            "grid_template_rows": null,
            "height": null,
            "justify_content": null,
            "justify_items": null,
            "left": null,
            "margin": null,
            "max_height": null,
            "max_width": null,
            "min_height": null,
            "min_width": null,
            "object_fit": null,
            "object_position": null,
            "order": null,
            "overflow": null,
            "overflow_x": null,
            "overflow_y": null,
            "padding": null,
            "right": null,
            "top": null,
            "visibility": null,
            "width": null
          }
        },
        "1304e08472154cae817ec2e348c67e41": {
          "model_module": "@jupyter-widgets/controls",
          "model_name": "DescriptionStyleModel",
          "model_module_version": "1.5.0",
          "state": {
            "_model_module": "@jupyter-widgets/controls",
            "_model_module_version": "1.5.0",
            "_model_name": "DescriptionStyleModel",
            "_view_count": null,
            "_view_module": "@jupyter-widgets/base",
            "_view_module_version": "1.2.0",
            "_view_name": "StyleView",
            "description_width": ""
          }
        },
        "02f213d83359456b97cf5536c14a384c": {
          "model_module": "@jupyter-widgets/base",
          "model_name": "LayoutModel",
          "model_module_version": "1.2.0",
          "state": {
            "_model_module": "@jupyter-widgets/base",
            "_model_module_version": "1.2.0",
            "_model_name": "LayoutModel",
            "_view_count": null,
            "_view_module": "@jupyter-widgets/base",
            "_view_module_version": "1.2.0",
            "_view_name": "LayoutView",
            "align_content": null,
            "align_items": null,
            "align_self": null,
            "border": null,
            "bottom": null,
            "display": null,
            "flex": null,
            "flex_flow": null,
            "grid_area": null,
            "grid_auto_columns": null,
            "grid_auto_flow": null,
            "grid_auto_rows": null,
            "grid_column": null,
            "grid_gap": null,
            "grid_row": null,
            "grid_template_areas": null,
            "grid_template_columns": null,
            "grid_template_rows": null,
            "height": null,
            "justify_content": null,
            "justify_items": null,
            "left": null,
            "margin": null,
            "max_height": null,
            "max_width": null,
            "min_height": null,
            "min_width": null,
            "object_fit": null,
            "object_position": null,
            "order": null,
            "overflow": null,
            "overflow_x": null,
            "overflow_y": null,
            "padding": null,
            "right": null,
            "top": null,
            "visibility": null,
            "width": null
          }
        },
        "ff27239d8dfc4819b007ba7baed7ab05": {
          "model_module": "@jupyter-widgets/controls",
          "model_name": "DescriptionStyleModel",
          "model_module_version": "1.5.0",
          "state": {
            "_model_module": "@jupyter-widgets/controls",
            "_model_module_version": "1.5.0",
            "_model_name": "DescriptionStyleModel",
            "_view_count": null,
            "_view_module": "@jupyter-widgets/base",
            "_view_module_version": "1.2.0",
            "_view_name": "StyleView",
            "description_width": ""
          }
        },
        "f246164a189544d291c3af5099639a98": {
          "model_module": "@jupyter-widgets/base",
          "model_name": "LayoutModel",
          "model_module_version": "1.2.0",
          "state": {
            "_model_module": "@jupyter-widgets/base",
            "_model_module_version": "1.2.0",
            "_model_name": "LayoutModel",
            "_view_count": null,
            "_view_module": "@jupyter-widgets/base",
            "_view_module_version": "1.2.0",
            "_view_name": "LayoutView",
            "align_content": null,
            "align_items": null,
            "align_self": null,
            "border": null,
            "bottom": null,
            "display": null,
            "flex": null,
            "flex_flow": null,
            "grid_area": null,
            "grid_auto_columns": null,
            "grid_auto_flow": null,
            "grid_auto_rows": null,
            "grid_column": null,
            "grid_gap": null,
            "grid_row": null,
            "grid_template_areas": null,
            "grid_template_columns": null,
            "grid_template_rows": null,
            "height": null,
            "justify_content": null,
            "justify_items": null,
            "left": null,
            "margin": null,
            "max_height": null,
            "max_width": null,
            "min_height": null,
            "min_width": null,
            "object_fit": null,
            "object_position": null,
            "order": null,
            "overflow": null,
            "overflow_x": null,
            "overflow_y": null,
            "padding": null,
            "right": null,
            "top": null,
            "visibility": null,
            "width": null
          }
        },
        "98dc451dad254a4ab60159ceb7ae15bb": {
          "model_module": "@jupyter-widgets/controls",
          "model_name": "DescriptionStyleModel",
          "model_module_version": "1.5.0",
          "state": {
            "_model_module": "@jupyter-widgets/controls",
            "_model_module_version": "1.5.0",
            "_model_name": "DescriptionStyleModel",
            "_view_count": null,
            "_view_module": "@jupyter-widgets/base",
            "_view_module_version": "1.2.0",
            "_view_name": "StyleView",
            "description_width": ""
          }
        }
      }
    }
  },
  "cells": [
    {
      "cell_type": "markdown",
      "source": [
        "# Chat pdf\n",
        "\n"
      ],
      "metadata": {
        "id": "JaechPAFABxp"
      }
    },
    {
      "cell_type": "code",
      "execution_count": null,
      "metadata": {
        "colab": {
          "base_uri": "https://localhost:8080/"
        },
        "id": "iHIbcPTe_fqb",
        "outputId": "97a53884-ca83-4856-cc1a-909ed6bec562"
      },
      "outputs": [
        {
          "output_type": "stream",
          "name": "stdout",
          "text": [
            "Requirement already satisfied: langchain in /usr/local/lib/python3.10/dist-packages (0.1.12)\n",
            "Requirement already satisfied: PyYAML>=5.3 in /usr/local/lib/python3.10/dist-packages (from langchain) (6.0.1)\n",
            "Requirement already satisfied: SQLAlchemy<3,>=1.4 in /usr/local/lib/python3.10/dist-packages (from langchain) (2.0.28)\n",
            "Requirement already satisfied: aiohttp<4.0.0,>=3.8.3 in /usr/local/lib/python3.10/dist-packages (from langchain) (3.9.3)\n",
            "Requirement already satisfied: async-timeout<5.0.0,>=4.0.0 in /usr/local/lib/python3.10/dist-packages (from langchain) (4.0.3)\n",
            "Requirement already satisfied: dataclasses-json<0.7,>=0.5.7 in /usr/local/lib/python3.10/dist-packages (from langchain) (0.6.4)\n",
            "Requirement already satisfied: jsonpatch<2.0,>=1.33 in /usr/local/lib/python3.10/dist-packages (from langchain) (1.33)\n",
            "Requirement already satisfied: langchain-community<0.1,>=0.0.28 in /usr/local/lib/python3.10/dist-packages (from langchain) (0.0.28)\n",
            "Requirement already satisfied: langchain-core<0.2.0,>=0.1.31 in /usr/local/lib/python3.10/dist-packages (from langchain) (0.1.32)\n",
            "Requirement already satisfied: langchain-text-splitters<0.1,>=0.0.1 in /usr/local/lib/python3.10/dist-packages (from langchain) (0.0.1)\n",
            "Requirement already satisfied: langsmith<0.2.0,>=0.1.17 in /usr/local/lib/python3.10/dist-packages (from langchain) (0.1.31)\n",
            "Requirement already satisfied: numpy<2,>=1 in /usr/local/lib/python3.10/dist-packages (from langchain) (1.25.2)\n",
            "Requirement already satisfied: pydantic<3,>=1 in /usr/local/lib/python3.10/dist-packages (from langchain) (2.6.4)\n",
            "Requirement already satisfied: requests<3,>=2 in /usr/local/lib/python3.10/dist-packages (from langchain) (2.31.0)\n",
            "Requirement already satisfied: tenacity<9.0.0,>=8.1.0 in /usr/local/lib/python3.10/dist-packages (from langchain) (8.2.3)\n",
            "Requirement already satisfied: aiosignal>=1.1.2 in /usr/local/lib/python3.10/dist-packages (from aiohttp<4.0.0,>=3.8.3->langchain) (1.3.1)\n",
            "Requirement already satisfied: attrs>=17.3.0 in /usr/local/lib/python3.10/dist-packages (from aiohttp<4.0.0,>=3.8.3->langchain) (23.2.0)\n",
            "Requirement already satisfied: frozenlist>=1.1.1 in /usr/local/lib/python3.10/dist-packages (from aiohttp<4.0.0,>=3.8.3->langchain) (1.4.1)\n",
            "Requirement already satisfied: multidict<7.0,>=4.5 in /usr/local/lib/python3.10/dist-packages (from aiohttp<4.0.0,>=3.8.3->langchain) (6.0.5)\n",
            "Requirement already satisfied: yarl<2.0,>=1.0 in /usr/local/lib/python3.10/dist-packages (from aiohttp<4.0.0,>=3.8.3->langchain) (1.9.4)\n",
            "Requirement already satisfied: marshmallow<4.0.0,>=3.18.0 in /usr/local/lib/python3.10/dist-packages (from dataclasses-json<0.7,>=0.5.7->langchain) (3.21.1)\n",
            "Requirement already satisfied: typing-inspect<1,>=0.4.0 in /usr/local/lib/python3.10/dist-packages (from dataclasses-json<0.7,>=0.5.7->langchain) (0.9.0)\n",
            "Requirement already satisfied: jsonpointer>=1.9 in /usr/local/lib/python3.10/dist-packages (from jsonpatch<2.0,>=1.33->langchain) (2.4)\n",
            "Requirement already satisfied: anyio<5,>=3 in /usr/local/lib/python3.10/dist-packages (from langchain-core<0.2.0,>=0.1.31->langchain) (3.7.1)\n",
            "Requirement already satisfied: packaging<24.0,>=23.2 in /usr/local/lib/python3.10/dist-packages (from langchain-core<0.2.0,>=0.1.31->langchain) (23.2)\n",
            "Requirement already satisfied: orjson<4.0.0,>=3.9.14 in /usr/local/lib/python3.10/dist-packages (from langsmith<0.2.0,>=0.1.17->langchain) (3.9.15)\n",
            "Requirement already satisfied: annotated-types>=0.4.0 in /usr/local/lib/python3.10/dist-packages (from pydantic<3,>=1->langchain) (0.6.0)\n",
            "Requirement already satisfied: pydantic-core==2.16.3 in /usr/local/lib/python3.10/dist-packages (from pydantic<3,>=1->langchain) (2.16.3)\n",
            "Requirement already satisfied: typing-extensions>=4.6.1 in /usr/local/lib/python3.10/dist-packages (from pydantic<3,>=1->langchain) (4.10.0)\n",
            "Requirement already satisfied: charset-normalizer<4,>=2 in /usr/local/lib/python3.10/dist-packages (from requests<3,>=2->langchain) (3.3.2)\n",
            "Requirement already satisfied: idna<4,>=2.5 in /usr/local/lib/python3.10/dist-packages (from requests<3,>=2->langchain) (3.6)\n",
            "Requirement already satisfied: urllib3<3,>=1.21.1 in /usr/local/lib/python3.10/dist-packages (from requests<3,>=2->langchain) (2.0.7)\n",
            "Requirement already satisfied: certifi>=2017.4.17 in /usr/local/lib/python3.10/dist-packages (from requests<3,>=2->langchain) (2024.2.2)\n",
            "Requirement already satisfied: greenlet!=0.4.17 in /usr/local/lib/python3.10/dist-packages (from SQLAlchemy<3,>=1.4->langchain) (3.0.3)\n",
            "Requirement already satisfied: sniffio>=1.1 in /usr/local/lib/python3.10/dist-packages (from anyio<5,>=3->langchain-core<0.2.0,>=0.1.31->langchain) (1.3.1)\n",
            "Requirement already satisfied: exceptiongroup in /usr/local/lib/python3.10/dist-packages (from anyio<5,>=3->langchain-core<0.2.0,>=0.1.31->langchain) (1.2.0)\n",
            "Requirement already satisfied: mypy-extensions>=0.3.0 in /usr/local/lib/python3.10/dist-packages (from typing-inspect<1,>=0.4.0->dataclasses-json<0.7,>=0.5.7->langchain) (1.0.0)\n",
            "Requirement already satisfied: huggingface-hub in /usr/local/lib/python3.10/dist-packages (0.20.3)\n",
            "Requirement already satisfied: filelock in /usr/local/lib/python3.10/dist-packages (from huggingface-hub) (3.13.1)\n",
            "Requirement already satisfied: fsspec>=2023.5.0 in /usr/local/lib/python3.10/dist-packages (from huggingface-hub) (2023.6.0)\n",
            "Requirement already satisfied: requests in /usr/local/lib/python3.10/dist-packages (from huggingface-hub) (2.31.0)\n",
            "Requirement already satisfied: tqdm>=4.42.1 in /usr/local/lib/python3.10/dist-packages (from huggingface-hub) (4.66.2)\n",
            "Requirement already satisfied: pyyaml>=5.1 in /usr/local/lib/python3.10/dist-packages (from huggingface-hub) (6.0.1)\n",
            "Requirement already satisfied: typing-extensions>=3.7.4.3 in /usr/local/lib/python3.10/dist-packages (from huggingface-hub) (4.10.0)\n",
            "Requirement already satisfied: packaging>=20.9 in /usr/local/lib/python3.10/dist-packages (from huggingface-hub) (23.2)\n",
            "Requirement already satisfied: charset-normalizer<4,>=2 in /usr/local/lib/python3.10/dist-packages (from requests->huggingface-hub) (3.3.2)\n",
            "Requirement already satisfied: idna<4,>=2.5 in /usr/local/lib/python3.10/dist-packages (from requests->huggingface-hub) (3.6)\n",
            "Requirement already satisfied: urllib3<3,>=1.21.1 in /usr/local/lib/python3.10/dist-packages (from requests->huggingface-hub) (2.0.7)\n",
            "Requirement already satisfied: certifi>=2017.4.17 in /usr/local/lib/python3.10/dist-packages (from requests->huggingface-hub) (2024.2.2)\n"
          ]
        }
      ],
      "source": [
        "!pip install langchain\n",
        "!pip install huggingface-hub"
      ]
    },
    {
      "cell_type": "code",
      "source": [
        "!pip install chromadb\n",
        "!pip install sentence-transformers"
      ],
      "metadata": {
        "colab": {
          "base_uri": "https://localhost:8080/"
        },
        "id": "Lp5EPK6ZFgu9",
        "outputId": "59066225-c9ea-466f-9ca3-a0c2dd63d309"
      },
      "execution_count": null,
      "outputs": [
        {
          "output_type": "stream",
          "name": "stdout",
          "text": [
            "Requirement already satisfied: chromadb in /usr/local/lib/python3.10/dist-packages (0.4.24)\n",
            "Requirement already satisfied: build>=1.0.3 in /usr/local/lib/python3.10/dist-packages (from chromadb) (1.1.1)\n",
            "Requirement already satisfied: requests>=2.28 in /usr/local/lib/python3.10/dist-packages (from chromadb) (2.31.0)\n",
            "Requirement already satisfied: pydantic>=1.9 in /usr/local/lib/python3.10/dist-packages (from chromadb) (2.6.4)\n",
            "Requirement already satisfied: chroma-hnswlib==0.7.3 in /usr/local/lib/python3.10/dist-packages (from chromadb) (0.7.3)\n",
            "Requirement already satisfied: fastapi>=0.95.2 in /usr/local/lib/python3.10/dist-packages (from chromadb) (0.110.0)\n",
            "Requirement already satisfied: uvicorn[standard]>=0.18.3 in /usr/local/lib/python3.10/dist-packages (from chromadb) (0.28.1)\n",
            "Requirement already satisfied: numpy>=1.22.5 in /usr/local/lib/python3.10/dist-packages (from chromadb) (1.25.2)\n",
            "Requirement already satisfied: posthog>=2.4.0 in /usr/local/lib/python3.10/dist-packages (from chromadb) (3.5.0)\n",
            "Requirement already satisfied: typing-extensions>=4.5.0 in /usr/local/lib/python3.10/dist-packages (from chromadb) (4.10.0)\n",
            "Requirement already satisfied: pulsar-client>=3.1.0 in /usr/local/lib/python3.10/dist-packages (from chromadb) (3.4.0)\n",
            "Requirement already satisfied: onnxruntime>=1.14.1 in /usr/local/lib/python3.10/dist-packages (from chromadb) (1.17.1)\n",
            "Requirement already satisfied: opentelemetry-api>=1.2.0 in /usr/local/lib/python3.10/dist-packages (from chromadb) (1.23.0)\n",
            "Requirement already satisfied: opentelemetry-exporter-otlp-proto-grpc>=1.2.0 in /usr/local/lib/python3.10/dist-packages (from chromadb) (1.23.0)\n",
            "Requirement already satisfied: opentelemetry-instrumentation-fastapi>=0.41b0 in /usr/local/lib/python3.10/dist-packages (from chromadb) (0.44b0)\n",
            "Requirement already satisfied: opentelemetry-sdk>=1.2.0 in /usr/local/lib/python3.10/dist-packages (from chromadb) (1.23.0)\n",
            "Requirement already satisfied: tokenizers>=0.13.2 in /usr/local/lib/python3.10/dist-packages (from chromadb) (0.15.2)\n",
            "Requirement already satisfied: pypika>=0.48.9 in /usr/local/lib/python3.10/dist-packages (from chromadb) (0.48.9)\n",
            "Requirement already satisfied: tqdm>=4.65.0 in /usr/local/lib/python3.10/dist-packages (from chromadb) (4.66.2)\n",
            "Requirement already satisfied: overrides>=7.3.1 in /usr/local/lib/python3.10/dist-packages (from chromadb) (7.7.0)\n",
            "Requirement already satisfied: importlib-resources in /usr/local/lib/python3.10/dist-packages (from chromadb) (6.3.0)\n",
            "Requirement already satisfied: grpcio>=1.58.0 in /usr/local/lib/python3.10/dist-packages (from chromadb) (1.62.1)\n",
            "Requirement already satisfied: bcrypt>=4.0.1 in /usr/local/lib/python3.10/dist-packages (from chromadb) (4.1.2)\n",
            "Requirement already satisfied: typer>=0.9.0 in /usr/local/lib/python3.10/dist-packages (from chromadb) (0.9.0)\n",
            "Requirement already satisfied: kubernetes>=28.1.0 in /usr/local/lib/python3.10/dist-packages (from chromadb) (29.0.0)\n",
            "Requirement already satisfied: tenacity>=8.2.3 in /usr/local/lib/python3.10/dist-packages (from chromadb) (8.2.3)\n",
            "Requirement already satisfied: PyYAML>=6.0.0 in /usr/local/lib/python3.10/dist-packages (from chromadb) (6.0.1)\n",
            "Requirement already satisfied: mmh3>=4.0.1 in /usr/local/lib/python3.10/dist-packages (from chromadb) (4.1.0)\n",
            "Requirement already satisfied: orjson>=3.9.12 in /usr/local/lib/python3.10/dist-packages (from chromadb) (3.9.15)\n",
            "Requirement already satisfied: packaging>=19.0 in /usr/local/lib/python3.10/dist-packages (from build>=1.0.3->chromadb) (23.2)\n",
            "Requirement already satisfied: pyproject_hooks in /usr/local/lib/python3.10/dist-packages (from build>=1.0.3->chromadb) (1.0.0)\n",
            "Requirement already satisfied: tomli>=1.1.0 in /usr/local/lib/python3.10/dist-packages (from build>=1.0.3->chromadb) (2.0.1)\n",
            "Requirement already satisfied: starlette<0.37.0,>=0.36.3 in /usr/local/lib/python3.10/dist-packages (from fastapi>=0.95.2->chromadb) (0.36.3)\n",
            "Requirement already satisfied: certifi>=14.05.14 in /usr/local/lib/python3.10/dist-packages (from kubernetes>=28.1.0->chromadb) (2024.2.2)\n",
            "Requirement already satisfied: six>=1.9.0 in /usr/local/lib/python3.10/dist-packages (from kubernetes>=28.1.0->chromadb) (1.16.0)\n",
            "Requirement already satisfied: python-dateutil>=2.5.3 in /usr/local/lib/python3.10/dist-packages (from kubernetes>=28.1.0->chromadb) (2.8.2)\n",
            "Requirement already satisfied: google-auth>=1.0.1 in /usr/local/lib/python3.10/dist-packages (from kubernetes>=28.1.0->chromadb) (2.27.0)\n",
            "Requirement already satisfied: websocket-client!=0.40.0,!=0.41.*,!=0.42.*,>=0.32.0 in /usr/local/lib/python3.10/dist-packages (from kubernetes>=28.1.0->chromadb) (1.7.0)\n",
            "Requirement already satisfied: requests-oauthlib in /usr/local/lib/python3.10/dist-packages (from kubernetes>=28.1.0->chromadb) (1.4.0)\n",
            "Requirement already satisfied: oauthlib>=3.2.2 in /usr/local/lib/python3.10/dist-packages (from kubernetes>=28.1.0->chromadb) (3.2.2)\n",
            "Requirement already satisfied: urllib3>=1.24.2 in /usr/local/lib/python3.10/dist-packages (from kubernetes>=28.1.0->chromadb) (2.0.7)\n",
            "Requirement already satisfied: coloredlogs in /usr/local/lib/python3.10/dist-packages (from onnxruntime>=1.14.1->chromadb) (15.0.1)\n",
            "Requirement already satisfied: flatbuffers in /usr/local/lib/python3.10/dist-packages (from onnxruntime>=1.14.1->chromadb) (24.3.7)\n",
            "Requirement already satisfied: protobuf in /usr/local/lib/python3.10/dist-packages (from onnxruntime>=1.14.1->chromadb) (3.20.3)\n",
            "Requirement already satisfied: sympy in /usr/local/lib/python3.10/dist-packages (from onnxruntime>=1.14.1->chromadb) (1.12)\n",
            "Requirement already satisfied: deprecated>=1.2.6 in /usr/local/lib/python3.10/dist-packages (from opentelemetry-api>=1.2.0->chromadb) (1.2.14)\n",
            "Requirement already satisfied: importlib-metadata<7.0,>=6.0 in /usr/local/lib/python3.10/dist-packages (from opentelemetry-api>=1.2.0->chromadb) (6.11.0)\n",
            "Requirement already satisfied: googleapis-common-protos~=1.52 in /usr/local/lib/python3.10/dist-packages (from opentelemetry-exporter-otlp-proto-grpc>=1.2.0->chromadb) (1.63.0)\n",
            "Requirement already satisfied: opentelemetry-exporter-otlp-proto-common==1.23.0 in /usr/local/lib/python3.10/dist-packages (from opentelemetry-exporter-otlp-proto-grpc>=1.2.0->chromadb) (1.23.0)\n",
            "Requirement already satisfied: opentelemetry-proto==1.23.0 in /usr/local/lib/python3.10/dist-packages (from opentelemetry-exporter-otlp-proto-grpc>=1.2.0->chromadb) (1.23.0)\n",
            "Requirement already satisfied: opentelemetry-instrumentation-asgi==0.44b0 in /usr/local/lib/python3.10/dist-packages (from opentelemetry-instrumentation-fastapi>=0.41b0->chromadb) (0.44b0)\n",
            "Requirement already satisfied: opentelemetry-instrumentation==0.44b0 in /usr/local/lib/python3.10/dist-packages (from opentelemetry-instrumentation-fastapi>=0.41b0->chromadb) (0.44b0)\n",
            "Requirement already satisfied: opentelemetry-semantic-conventions==0.44b0 in /usr/local/lib/python3.10/dist-packages (from opentelemetry-instrumentation-fastapi>=0.41b0->chromadb) (0.44b0)\n",
            "Requirement already satisfied: opentelemetry-util-http==0.44b0 in /usr/local/lib/python3.10/dist-packages (from opentelemetry-instrumentation-fastapi>=0.41b0->chromadb) (0.44b0)\n",
            "Requirement already satisfied: setuptools>=16.0 in /usr/local/lib/python3.10/dist-packages (from opentelemetry-instrumentation==0.44b0->opentelemetry-instrumentation-fastapi>=0.41b0->chromadb) (67.7.2)\n",
            "Requirement already satisfied: wrapt<2.0.0,>=1.0.0 in /usr/local/lib/python3.10/dist-packages (from opentelemetry-instrumentation==0.44b0->opentelemetry-instrumentation-fastapi>=0.41b0->chromadb) (1.14.1)\n",
            "Requirement already satisfied: asgiref~=3.0 in /usr/local/lib/python3.10/dist-packages (from opentelemetry-instrumentation-asgi==0.44b0->opentelemetry-instrumentation-fastapi>=0.41b0->chromadb) (3.7.2)\n",
            "Requirement already satisfied: monotonic>=1.5 in /usr/local/lib/python3.10/dist-packages (from posthog>=2.4.0->chromadb) (1.6)\n",
            "Requirement already satisfied: backoff>=1.10.0 in /usr/local/lib/python3.10/dist-packages (from posthog>=2.4.0->chromadb) (2.2.1)\n",
            "Requirement already satisfied: annotated-types>=0.4.0 in /usr/local/lib/python3.10/dist-packages (from pydantic>=1.9->chromadb) (0.6.0)\n",
            "Requirement already satisfied: pydantic-core==2.16.3 in /usr/local/lib/python3.10/dist-packages (from pydantic>=1.9->chromadb) (2.16.3)\n",
            "Requirement already satisfied: charset-normalizer<4,>=2 in /usr/local/lib/python3.10/dist-packages (from requests>=2.28->chromadb) (3.3.2)\n",
            "Requirement already satisfied: idna<4,>=2.5 in /usr/local/lib/python3.10/dist-packages (from requests>=2.28->chromadb) (3.6)\n",
            "Requirement already satisfied: huggingface_hub<1.0,>=0.16.4 in /usr/local/lib/python3.10/dist-packages (from tokenizers>=0.13.2->chromadb) (0.20.3)\n",
            "Requirement already satisfied: click<9.0.0,>=7.1.1 in /usr/local/lib/python3.10/dist-packages (from typer>=0.9.0->chromadb) (8.1.7)\n",
            "Requirement already satisfied: h11>=0.8 in /usr/local/lib/python3.10/dist-packages (from uvicorn[standard]>=0.18.3->chromadb) (0.14.0)\n",
            "Requirement already satisfied: httptools>=0.5.0 in /usr/local/lib/python3.10/dist-packages (from uvicorn[standard]>=0.18.3->chromadb) (0.6.1)\n",
            "Requirement already satisfied: python-dotenv>=0.13 in /usr/local/lib/python3.10/dist-packages (from uvicorn[standard]>=0.18.3->chromadb) (1.0.1)\n",
            "Requirement already satisfied: uvloop!=0.15.0,!=0.15.1,>=0.14.0 in /usr/local/lib/python3.10/dist-packages (from uvicorn[standard]>=0.18.3->chromadb) (0.19.0)\n",
            "Requirement already satisfied: watchfiles>=0.13 in /usr/local/lib/python3.10/dist-packages (from uvicorn[standard]>=0.18.3->chromadb) (0.21.0)\n",
            "Requirement already satisfied: websockets>=10.4 in /usr/local/lib/python3.10/dist-packages (from uvicorn[standard]>=0.18.3->chromadb) (12.0)\n",
            "Requirement already satisfied: cachetools<6.0,>=2.0.0 in /usr/local/lib/python3.10/dist-packages (from google-auth>=1.0.1->kubernetes>=28.1.0->chromadb) (5.3.3)\n",
            "Requirement already satisfied: pyasn1-modules>=0.2.1 in /usr/local/lib/python3.10/dist-packages (from google-auth>=1.0.1->kubernetes>=28.1.0->chromadb) (0.3.0)\n",
            "Requirement already satisfied: rsa<5,>=3.1.4 in /usr/local/lib/python3.10/dist-packages (from google-auth>=1.0.1->kubernetes>=28.1.0->chromadb) (4.9)\n",
            "Requirement already satisfied: filelock in /usr/local/lib/python3.10/dist-packages (from huggingface_hub<1.0,>=0.16.4->tokenizers>=0.13.2->chromadb) (3.13.1)\n",
            "Requirement already satisfied: fsspec>=2023.5.0 in /usr/local/lib/python3.10/dist-packages (from huggingface_hub<1.0,>=0.16.4->tokenizers>=0.13.2->chromadb) (2023.6.0)\n",
            "Requirement already satisfied: zipp>=0.5 in /usr/local/lib/python3.10/dist-packages (from importlib-metadata<7.0,>=6.0->opentelemetry-api>=1.2.0->chromadb) (3.18.1)\n",
            "Requirement already satisfied: anyio<5,>=3.4.0 in /usr/local/lib/python3.10/dist-packages (from starlette<0.37.0,>=0.36.3->fastapi>=0.95.2->chromadb) (3.7.1)\n",
            "Requirement already satisfied: humanfriendly>=9.1 in /usr/local/lib/python3.10/dist-packages (from coloredlogs->onnxruntime>=1.14.1->chromadb) (10.0)\n",
            "Requirement already satisfied: mpmath>=0.19 in /usr/local/lib/python3.10/dist-packages (from sympy->onnxruntime>=1.14.1->chromadb) (1.3.0)\n",
            "Requirement already satisfied: sniffio>=1.1 in /usr/local/lib/python3.10/dist-packages (from anyio<5,>=3.4.0->starlette<0.37.0,>=0.36.3->fastapi>=0.95.2->chromadb) (1.3.1)\n",
            "Requirement already satisfied: exceptiongroup in /usr/local/lib/python3.10/dist-packages (from anyio<5,>=3.4.0->starlette<0.37.0,>=0.36.3->fastapi>=0.95.2->chromadb) (1.2.0)\n",
            "Requirement already satisfied: pyasn1<0.6.0,>=0.4.6 in /usr/local/lib/python3.10/dist-packages (from pyasn1-modules>=0.2.1->google-auth>=1.0.1->kubernetes>=28.1.0->chromadb) (0.5.1)\n",
            "Requirement already satisfied: sentence-transformers in /usr/local/lib/python3.10/dist-packages (2.5.1)\n",
            "Requirement already satisfied: transformers<5.0.0,>=4.32.0 in /usr/local/lib/python3.10/dist-packages (from sentence-transformers) (4.38.2)\n",
            "Requirement already satisfied: tqdm in /usr/local/lib/python3.10/dist-packages (from sentence-transformers) (4.66.2)\n",
            "Requirement already satisfied: torch>=1.11.0 in /usr/local/lib/python3.10/dist-packages (from sentence-transformers) (2.2.1+cu121)\n",
            "Requirement already satisfied: numpy in /usr/local/lib/python3.10/dist-packages (from sentence-transformers) (1.25.2)\n",
            "Requirement already satisfied: scikit-learn in /usr/local/lib/python3.10/dist-packages (from sentence-transformers) (1.2.2)\n",
            "Requirement already satisfied: scipy in /usr/local/lib/python3.10/dist-packages (from sentence-transformers) (1.11.4)\n",
            "Requirement already satisfied: huggingface-hub>=0.15.1 in /usr/local/lib/python3.10/dist-packages (from sentence-transformers) (0.20.3)\n",
            "Requirement already satisfied: Pillow in /usr/local/lib/python3.10/dist-packages (from sentence-transformers) (9.4.0)\n",
            "Requirement already satisfied: filelock in /usr/local/lib/python3.10/dist-packages (from huggingface-hub>=0.15.1->sentence-transformers) (3.13.1)\n",
            "Requirement already satisfied: fsspec>=2023.5.0 in /usr/local/lib/python3.10/dist-packages (from huggingface-hub>=0.15.1->sentence-transformers) (2023.6.0)\n",
            "Requirement already satisfied: requests in /usr/local/lib/python3.10/dist-packages (from huggingface-hub>=0.15.1->sentence-transformers) (2.31.0)\n",
            "Requirement already satisfied: pyyaml>=5.1 in /usr/local/lib/python3.10/dist-packages (from huggingface-hub>=0.15.1->sentence-transformers) (6.0.1)\n",
            "Requirement already satisfied: typing-extensions>=3.7.4.3 in /usr/local/lib/python3.10/dist-packages (from huggingface-hub>=0.15.1->sentence-transformers) (4.10.0)\n",
            "Requirement already satisfied: packaging>=20.9 in /usr/local/lib/python3.10/dist-packages (from huggingface-hub>=0.15.1->sentence-transformers) (23.2)\n",
            "Requirement already satisfied: sympy in /usr/local/lib/python3.10/dist-packages (from torch>=1.11.0->sentence-transformers) (1.12)\n",
            "Requirement already satisfied: networkx in /usr/local/lib/python3.10/dist-packages (from torch>=1.11.0->sentence-transformers) (3.2.1)\n",
            "Requirement already satisfied: jinja2 in /usr/local/lib/python3.10/dist-packages (from torch>=1.11.0->sentence-transformers) (3.1.3)\n",
            "Requirement already satisfied: nvidia-cuda-nvrtc-cu12==12.1.105 in /usr/local/lib/python3.10/dist-packages (from torch>=1.11.0->sentence-transformers) (12.1.105)\n",
            "Requirement already satisfied: nvidia-cuda-runtime-cu12==12.1.105 in /usr/local/lib/python3.10/dist-packages (from torch>=1.11.0->sentence-transformers) (12.1.105)\n",
            "Requirement already satisfied: nvidia-cuda-cupti-cu12==12.1.105 in /usr/local/lib/python3.10/dist-packages (from torch>=1.11.0->sentence-transformers) (12.1.105)\n",
            "Requirement already satisfied: nvidia-cudnn-cu12==8.9.2.26 in /usr/local/lib/python3.10/dist-packages (from torch>=1.11.0->sentence-transformers) (8.9.2.26)\n",
            "Requirement already satisfied: nvidia-cublas-cu12==12.1.3.1 in /usr/local/lib/python3.10/dist-packages (from torch>=1.11.0->sentence-transformers) (12.1.3.1)\n",
            "Requirement already satisfied: nvidia-cufft-cu12==11.0.2.54 in /usr/local/lib/python3.10/dist-packages (from torch>=1.11.0->sentence-transformers) (11.0.2.54)\n",
            "Requirement already satisfied: nvidia-curand-cu12==10.3.2.106 in /usr/local/lib/python3.10/dist-packages (from torch>=1.11.0->sentence-transformers) (10.3.2.106)\n",
            "Requirement already satisfied: nvidia-cusolver-cu12==11.4.5.107 in /usr/local/lib/python3.10/dist-packages (from torch>=1.11.0->sentence-transformers) (11.4.5.107)\n",
            "Requirement already satisfied: nvidia-cusparse-cu12==12.1.0.106 in /usr/local/lib/python3.10/dist-packages (from torch>=1.11.0->sentence-transformers) (12.1.0.106)\n",
            "Requirement already satisfied: nvidia-nccl-cu12==2.19.3 in /usr/local/lib/python3.10/dist-packages (from torch>=1.11.0->sentence-transformers) (2.19.3)\n",
            "Requirement already satisfied: nvidia-nvtx-cu12==12.1.105 in /usr/local/lib/python3.10/dist-packages (from torch>=1.11.0->sentence-transformers) (12.1.105)\n",
            "Requirement already satisfied: triton==2.2.0 in /usr/local/lib/python3.10/dist-packages (from torch>=1.11.0->sentence-transformers) (2.2.0)\n",
            "Requirement already satisfied: nvidia-nvjitlink-cu12 in /usr/local/lib/python3.10/dist-packages (from nvidia-cusolver-cu12==11.4.5.107->torch>=1.11.0->sentence-transformers) (12.4.99)\n",
            "Requirement already satisfied: regex!=2019.12.17 in /usr/local/lib/python3.10/dist-packages (from transformers<5.0.0,>=4.32.0->sentence-transformers) (2023.12.25)\n",
            "Requirement already satisfied: tokenizers<0.19,>=0.14 in /usr/local/lib/python3.10/dist-packages (from transformers<5.0.0,>=4.32.0->sentence-transformers) (0.15.2)\n",
            "Requirement already satisfied: safetensors>=0.4.1 in /usr/local/lib/python3.10/dist-packages (from transformers<5.0.0,>=4.32.0->sentence-transformers) (0.4.2)\n",
            "Requirement already satisfied: joblib>=1.1.1 in /usr/local/lib/python3.10/dist-packages (from scikit-learn->sentence-transformers) (1.3.2)\n",
            "Requirement already satisfied: threadpoolctl>=2.0.0 in /usr/local/lib/python3.10/dist-packages (from scikit-learn->sentence-transformers) (3.3.0)\n",
            "Requirement already satisfied: MarkupSafe>=2.0 in /usr/local/lib/python3.10/dist-packages (from jinja2->torch>=1.11.0->sentence-transformers) (2.1.5)\n",
            "Requirement already satisfied: charset-normalizer<4,>=2 in /usr/local/lib/python3.10/dist-packages (from requests->huggingface-hub>=0.15.1->sentence-transformers) (3.3.2)\n",
            "Requirement already satisfied: idna<4,>=2.5 in /usr/local/lib/python3.10/dist-packages (from requests->huggingface-hub>=0.15.1->sentence-transformers) (3.6)\n",
            "Requirement already satisfied: urllib3<3,>=1.21.1 in /usr/local/lib/python3.10/dist-packages (from requests->huggingface-hub>=0.15.1->sentence-transformers) (2.0.7)\n",
            "Requirement already satisfied: certifi>=2017.4.17 in /usr/local/lib/python3.10/dist-packages (from requests->huggingface-hub>=0.15.1->sentence-transformers) (2024.2.2)\n",
            "Requirement already satisfied: mpmath>=0.19 in /usr/local/lib/python3.10/dist-packages (from sympy->torch>=1.11.0->sentence-transformers) (1.3.0)\n"
          ]
        }
      ]
    },
    {
      "cell_type": "code",
      "source": [
        "!pip install pypdf\n"
      ],
      "metadata": {
        "colab": {
          "base_uri": "https://localhost:8080/"
        },
        "id": "UJfRYdXYGYYS",
        "outputId": "8d14e48b-c7cd-4751-99be-fca0805b7034"
      },
      "execution_count": null,
      "outputs": [
        {
          "output_type": "stream",
          "name": "stdout",
          "text": [
            "Requirement already satisfied: pypdf in /usr/local/lib/python3.10/dist-packages (4.1.0)\n"
          ]
        }
      ]
    },
    {
      "cell_type": "markdown",
      "source": [
        "Building a PDF Chatbot using Langchain requires the following:\n",
        "*   Document loader: to load various data formats and create document objects (here PDF)\n",
        "* Chunking: chunking the documents using text splitters\n",
        "* Embedding: embedding the chunks to generate vectors\n",
        "* vector store: for storing and indexing vector documents (here we shall use Chroma db)\n",
        "* LLM: language model for question answering and summarizing\n",
        "* Document Retriever: that retrieves the relevant chunk(s) based on the query from the PDF document\n",
        "\n",
        "\n",
        "\n",
        "\n"
      ],
      "metadata": {
        "id": "yLY-tGzvFWth"
      }
    },
    {
      "cell_type": "markdown",
      "source": [
        "# Importing Libraries"
      ],
      "metadata": {
        "id": "aG3dsWo_FvgZ"
      }
    },
    {
      "cell_type": "code",
      "source": [
        "import os\n",
        "import getpass\n",
        "\n",
        "from langchain.document_loaders import PyPDFLoader\n",
        "from langchain.text_splitter import RecursiveCharacterTextSplitter\n",
        "from langchain.embeddings import HuggingFaceHubEmbeddings\n",
        "from langchain.vectorstores import Chroma\n",
        "from langchain import HuggingFaceHub\n",
        "from langchain.chains import RetrievalQA"
      ],
      "metadata": {
        "id": "XpWaFVEhGY71"
      },
      "execution_count": null,
      "outputs": []
    },
    {
      "cell_type": "code",
      "source": [
        "#loading the api key\n",
        "os.environ['HUGGING_FACE_HUB_API_KEY']=getpass.getpass('Hugging Face Api Key:')"
      ],
      "metadata": {
        "colab": {
          "base_uri": "https://localhost:8080/"
        },
        "id": "WlMLaaohHG-e",
        "outputId": "ad1c60e5-3845-4d78-f905-abf860b2c2f2"
      },
      "execution_count": null,
      "outputs": [
        {
          "name": "stdout",
          "output_type": "stream",
          "text": [
            "Hugging Face Api Key:··········\n"
          ]
        }
      ]
    },
    {
      "cell_type": "markdown",
      "source": [
        "# Reading pdf and create vector stores\n",
        "\n",
        "---\n",
        "\n"
      ],
      "metadata": {
        "id": "1KpjYTQLIzVl"
      }
    },
    {
      "cell_type": "code",
      "source": [
        "path=input('Enter pdf file path:')\n",
        "loader = PyPDFLoader(path)\n",
        "pages=loader.load()"
      ],
      "metadata": {
        "colab": {
          "base_uri": "https://localhost:8080/"
        },
        "id": "LVcooCdbH5IG",
        "outputId": "e1004329-ff68-4870-a851-4062db30c436"
      },
      "execution_count": null,
      "outputs": [
        {
          "name": "stdout",
          "output_type": "stream",
          "text": [
            "Enter pdf file path:/content/drive/MyDrive/RAG/glms.pdf\n"
          ]
        }
      ]
    },
    {
      "cell_type": "code",
      "source": [
        "len(pages)"
      ],
      "metadata": {
        "colab": {
          "base_uri": "https://localhost:8080/"
        },
        "id": "qoicK6FJLfHo",
        "outputId": "0faaa5b0-6c50-495b-8cf8-baca23dbd891"
      },
      "execution_count": null,
      "outputs": [
        {
          "output_type": "execute_result",
          "data": {
            "text/plain": [
              "11"
            ]
          },
          "metadata": {},
          "execution_count": 58
        }
      ]
    },
    {
      "cell_type": "code",
      "source": [
        "pages[0]"
      ],
      "metadata": {
        "colab": {
          "base_uri": "https://localhost:8080/"
        },
        "id": "u6nUOd-bLjFS",
        "outputId": "18a87218-b2ea-4783-f753-d3821287c5d5"
      },
      "execution_count": null,
      "outputs": [
        {
          "output_type": "execute_result",
          "data": {
            "text/plain": [
              "Document(page_content='Linear regression, Logistic regression,\\nand Generalized Linear Models\\nDavid M. Blei\\nColumbia University\\nNovember 18, 2014\\n1 Linear Regression\\nLinear regression helps solve the problem of predicting a real-valued variable y,\\ncalled the response , from a vector of inputs x, called the covariates .\\nThe goal is to predict yfromxwith a linear function. Here is a picture.\\n[one covariate and a response, and the best ﬁt line]\\nHere are some examples.\\n\\x0fGiven the stock price today, what will it be tomorrow?\\n\\x0fGiven today’s precipitation, what will it be in a week?\\n\\x0fGiven my mother’s height, what is my shoe size?\\n\\x0fOthers? Where have you seen linear regression?\\nIn the literature, we assume there are pcovariates and we ﬁt a linear function to\\npredict the response,\\nf.x/Dˇ0CpX\\niD1ˇixi: (1)\\nThe vectorˇcontains thepcoefﬁcients ;ˇ0is the intercept .\\nThis set-up is less limiting than you might imagine. The covariates can be\\nﬂexible. Examples:\\n\\x0fAny feature of the data\\n\\x0fTransformations of the original features, x2Dlogx1orx2Dpx1.\\n\\x0fA basis expansion, e.g., x2Dx2\\n1andx3Dx3\\n1. Here linear regression ﬁts\\na polynomial, rather than a line.\\n\\x0fIndicator functions of qualitative covariates, e.g., 1ŒThe subject has brown hair \\x8d.\\n\\x0fInteractions between covariates, e.g., x3Dx1x2.\\n1', metadata={'source': '/content/drive/MyDrive/RAG/glms.pdf', 'page': 0})"
            ]
          },
          "metadata": {},
          "execution_count": 59
        }
      ]
    },
    {
      "cell_type": "code",
      "source": [
        "splitter=RecursiveCharacterTextSplitter(chunk_size=500, chunk_overlap=20)\n",
        "docs=splitter.split_documents(pages)"
      ],
      "metadata": {
        "id": "3OuOTnyoLlc0"
      },
      "execution_count": null,
      "outputs": []
    },
    {
      "cell_type": "code",
      "source": [
        "docs\n"
      ],
      "metadata": {
        "colab": {
          "base_uri": "https://localhost:8080/"
        },
        "id": "fZ9ZHeAaNQ4i",
        "outputId": "5b1b545c-9b58-4520-ed22-493b0cbdb424"
      },
      "execution_count": null,
      "outputs": [
        {
          "output_type": "execute_result",
          "data": {
            "text/plain": [
              "[Document(page_content='Linear regression, Logistic regression,\\nand Generalized Linear Models\\nDavid M. Blei\\nColumbia University\\nNovember 18, 2014\\n1 Linear Regression\\nLinear regression helps solve the problem of predicting a real-valued variable y,\\ncalled the response , from a vector of inputs x, called the covariates .\\nThe goal is to predict yfromxwith a linear function. Here is a picture.\\n[one covariate and a response, and the best ﬁt line]\\nHere are some examples.', metadata={'source': '/content/drive/MyDrive/RAG/glms.pdf', 'page': 0}),\n",
              " Document(page_content='\\x0fGiven the stock price today, what will it be tomorrow?\\n\\x0fGiven today’s precipitation, what will it be in a week?\\n\\x0fGiven my mother’s height, what is my shoe size?\\n\\x0fOthers? Where have you seen linear regression?\\nIn the literature, we assume there are pcovariates and we ﬁt a linear function to\\npredict the response,\\nf.x/Dˇ0CpX\\niD1ˇixi: (1)\\nThe vectorˇcontains thepcoefﬁcients ;ˇ0is the intercept .\\nThis set-up is less limiting than you might imagine. The covariates can be\\nﬂexible. Examples:', metadata={'source': '/content/drive/MyDrive/RAG/glms.pdf', 'page': 0}),\n",
              " Document(page_content='ﬂexible. Examples:\\n\\x0fAny feature of the data\\n\\x0fTransformations of the original features, x2Dlogx1orx2Dpx1.\\n\\x0fA basis expansion, e.g., x2Dx2\\n1andx3Dx3\\n1. Here linear regression ﬁts\\na polynomial, rather than a line.\\n\\x0fIndicator functions of qualitative covariates, e.g., 1ŒThe subject has brown hair \\x8d.\\n\\x0fInteractions between covariates, e.g., x3Dx1x2.\\n1', metadata={'source': '/content/drive/MyDrive/RAG/glms.pdf', 'page': 0}),\n",
              " Document(page_content='Its simplicity and ﬂexibility makes linear regression one of the most important\\nand widely used statistical prediction methods. There are courses and sequences\\nof courses devoted to linear regression.\\n1.1 Fitting a regression\\nGiven dataf.xn;yn/gN\\nnD1, ﬁnd the coefﬁcients ˇthat best predict ynewfrom\\nxnew. For simplicity, assume that xnis a scalar and the intercept ˇ0is zero.\\n(In general we can assume ˇ0D0by centering the response variables before\\nanalyzing them.) There is only one coefﬁcient ˇ.', metadata={'source': '/content/drive/MyDrive/RAG/glms.pdf', 'page': 1}),\n",
              " Document(page_content='A reasonable approach is to consider the squared Euclidean distance between\\neach ﬁtted response f.xn/Dˇxnand the true response yn,.yn\\x00ˇxn/2.\\nChooseˇthat minimizes the sum of the distances over the data,\\nOˇDarg min1\\n2NX\\nnD1.yn\\x00ˇxn/2(2)\\nThis has a closed-form solution both in our simpliﬁed case and the more general\\nsetting withpcovariates. We will get back to this later.\\nGiven a ﬁtted coefﬁcient, we predict the new response by plugging it into the\\nregression equation,\\nOynewDOˇxnew: (3)', metadata={'source': '/content/drive/MyDrive/RAG/glms.pdf', 'page': 1}),\n",
              " Document(page_content='OynewDOˇxnew: (3)\\n1.2 Linear regression as a probabilistic model\\nLinear regression can be interpreted as a probabilistic model,\\nynjxn\\x18N.ˇ>xn;\\x1b2/: (4)\\nFor each response this is like putting a Gaussian “bump” around a mean, which\\nis a linear function of the covariates. This is a conditional model ; the inputs are\\nnot modeled with a distribution.\\n[Draw the graphical model, training and testing]\\nLinear regression is parameterized by its coefﬁcients. We observe a training set', metadata={'source': '/content/drive/MyDrive/RAG/glms.pdf', 'page': 1}),\n",
              " Document(page_content='of covariate/response pairs DDf.xn;yn/g. We want to ﬁnd the parameter ˇ\\nthat maximizes the conditional log likelihood,Plogp.ynjxn;ˇ/.\\n2', metadata={'source': '/content/drive/MyDrive/RAG/glms.pdf', 'page': 1}),\n",
              " Document(page_content='Finding this MLE is equivalent to minimizing the residual sum of squares,\\ndescribed above. The conditional log likelihood is\\nL.ˇIx1WN;y1WN/DNX\\nnD1\\x001\\n2log2\\x19\\x1b2\\x001\\n2.yn\\x00ˇ>xn/2=\\x1b2: (5)\\nOptimizing with respect to ˇreveals\\nOˇDarg max\\x001\\n2NX\\nnD1.yn\\x00ˇ>xn/2=\\x1b2: (6)\\nThis is equivalent to minimizing the residual sum of squares.\\nReturn to the single covariate case. The derivative is\\ndL\\ndˇDNX\\nnD1.yn\\x00ˇxn/xn: (7)\\n(This is multiplied by \\x1b2, which is a constant factor.) In this case the optimal', metadata={'source': '/content/drive/MyDrive/RAG/glms.pdf', 'page': 2}),\n",
              " Document(page_content='can be found analytically,\\nOˇDPN\\nnD1ynxnPN\\nnD1x2\\nn: (8)\\nThis is the empirical covariance between the covariate and response divided by\\nthe empirical variance of the covariate.\\nForeshadow: Modern regression problems are high dimensional, which means\\nthat the number of covariates pis large. In practice statisticians regularize their\\nmodels, veering away from the MLE solution to one where the coefﬁcients have\\nsmaller magnitude.', metadata={'source': '/content/drive/MyDrive/RAG/glms.pdf', 'page': 2}),\n",
              " Document(page_content='smaller magnitude.\\nStill in the probabilistic framework, let’s turn to prediction. The conditional ex-\\npectation EŒynewjxnew\\x8d. This is simply the mean of the corresponding Gaussian,\\nEŒynewjxnew\\x8dDOˇ>xnew: (9)\\nThe variance \\x1b2does not play a role in prediction.\\nWith this perspective on prediction, we can rewrite the derivative of the condi-\\ntional log likelihood,\\ndL\\ndˇDNX\\nnD1.yn\\x00EŒyjxn;ˇ\\x8d/xn: (10)\\n3', metadata={'source': '/content/drive/MyDrive/RAG/glms.pdf', 'page': 2}),\n",
              " Document(page_content='This form will come up again later.\\nIn the more general case, there are pcovariates. The derivative is\\ndL\\ndˇiDNX\\nnD1.yn\\x00EŒYjxn;ˇ\\x8d/xni: (11)\\nThis is intuitive. When we are ﬁtting the data well, the derivative is close to\\nzero. If both the error (also called the signed residual ) and covariate are large\\nthen we will move the corresponding coefﬁcient.\\n2 Logistic regression\\nWe have seen that linear regression corresponds to this graphical model.\\n[Draw the graphical model, training and testing]', metadata={'source': '/content/drive/MyDrive/RAG/glms.pdf', 'page': 3}),\n",
              " Document(page_content='We can use the same machinery to do classiﬁcation. Consider binary classiﬁ-\\ncation, where each data point is in one of two classes yn2f0;1g. If we used\\nlinear regression to model this data, then\\nynjxn\\x18N.ˇ>xn;\\x1b2/: (12)\\nThis is not appropriate for binary classiﬁcation.\\nQ: Why not? The reason is that ynneeds to be zero or one, i.e., a Bernoulli\\nrandom variable. (In some set-ups, it makes more sense for the classes to be\\nf\\x001;1g. Not here.)', metadata={'source': '/content/drive/MyDrive/RAG/glms.pdf', 'page': 3}),\n",
              " Document(page_content='f\\x001;1g. Not here.)\\nWe modelp.yD1jx/as a Bernoulli whose parameter is a function of x,\\np.yD1jx/D\\x16.x/y.1\\x00\\x16.x//1\\x00y: (13)\\nWhat form should \\x16.x/ take?\\nLet’s go back to our line of thinking around linear regression. We can think\\nof linear regression as a Gaussian whose mean is a function of x, speciﬁ-\\ncally,\\x16.x/Dˇ>xn. Is this appropriate here? No, because we need \\x16.x/2\\n.0;1/ .\\nRather, we use the logistic function ,\\n\\x16.x/D1\\n1Ce\\x00\\x11.x/: (14)\\nThis function maps the reals to a value in .0;1/ .\\n4', metadata={'source': '/content/drive/MyDrive/RAG/glms.pdf', 'page': 3}),\n",
              " Document(page_content='\\x0fQ: What happens when \\x11.x/D\\x001 ?\\n\\x0fQ: What happens when \\x11.x/DC1 ?\\n\\x0fQ: What happens when \\x11.x/D0?\\nHere is a plot of the logistic function\\n0.20.40.60.8\\n-10-50510xf(x)\\nIn logistic regression, as in linear regression, we set\\n\\x11.x/Dˇ>x: (15)\\nThis speciﬁes the model,\\nyn\\x18Bernoulli.\\x16.ˇ>xn// (16)\\nNote that the graphical model is identical to linear regression.\\nImportant: The covariates enter the probability of the response through a', metadata={'source': '/content/drive/MyDrive/RAG/glms.pdf', 'page': 4}),\n",
              " Document(page_content='linear combination with the coefﬁcients. That linear combination is then passed\\nthrough a function to make a quantity that is appropriate as a parameter to the\\ndistribution of the response.\\nOptional: Generative vs. discriminative modeling. As for linear regression\\nwe always assume that xnis observed. Contrasting this with naive Bayes\\nclassiﬁcation, this is a discriminative model . The folk wisdom, made more\\nformal by Ng and Jordan (2002), is that discriminative models give better', metadata={'source': '/content/drive/MyDrive/RAG/glms.pdf', 'page': 4}),\n",
              " Document(page_content='performance as more data are observed. Of course “more” must take into\\naccount dimension and number of data points. (For example, 100 1-dimensional\\npoints is “more” than 100 1000-dimensional points.)\\nHere is an example picture from their paper:\\n5', metadata={'source': '/content/drive/MyDrive/RAG/glms.pdf', 'page': 4}),\n",
              " Document(page_content='0 20 40 600.250.30.350.40.450.5\\nmerrorpima (continuous)\\n0 10 20 300.20.250.30.350.40.450.5\\nmerroradult (continuous)\\n0 20 40 600.20.250.30.350.40.45\\nmerrorboston (predict if > median price, continuous)\\n0 50 100 150 20000.10.20.30.4\\nmerroroptdigits (0’s and 1’s, continuous)\\n0 50 100 150 20000.10.20.30.4\\nmerroroptdigits (2’s and 3’s, continuous)\\n0 20 40 60 80 1000.10.20.30.40.5\\nmerrorionosphere (continuous)\\n0 20 40 600.350.40.450.5\\nmerrorliver disorders (continuous)', metadata={'source': '/content/drive/MyDrive/RAG/glms.pdf', 'page': 5}),\n",
              " Document(page_content='0 20 40 60 80 100 1200.250.30.350.40.450.5\\nmerrorsonar (continuous)\\n0 100 200 300 4000.20.30.40.50.60.7\\nmerroradult (discrete)\\n0 20 40 60 80 10000.10.20.30.40.5\\nmerrorpromoters (discrete)\\n0 50 100 1500.10.20.30.40.5\\nmerrorlymphography (discrete)\\n0 100 200 3000.250.30.350.40.450.5\\nmerrorbreast cancer (discrete)\\n0 5 10 15 20 250.10.20.30.40.5\\nmerrorlenses (predict hard vs. soft, discrete)\\n0 50 100 15000.20.40.60.8\\nmerrorsick (discrete)\\n0 20 40 60 8000.10.20.30.4\\nmerrorvoting records (discrete)', metadata={'source': '/content/drive/MyDrive/RAG/glms.pdf', 'page': 5}),\n",
              " Document(page_content='The paper includes many such pictures, for many data sets.\\nLinear separators and the margin. Suppose there are two covariates and\\ntwo classes.\\n[Draw a plane with “+” and “-” labeled points, separable.]\\nQ: What kind of classiﬁcation boundary does logistic regression create?\\n\\x0fQ: When does p.Cjx/D1=2? A: When\\x11.x/D0\\n\\x0fQ: Where does ˇ>xnD0? A: A line in covariate space.\\n\\x0fQ: What happens when ˇ>x<0 ? A:p.Cjx/<1=2\\n\\x0fQ: What happens when ˇ>x>0 ? A:p.Cjx/<1=2', metadata={'source': '/content/drive/MyDrive/RAG/glms.pdf', 'page': 5}),\n",
              " Document(page_content='So, the boundary around 1/2 occurs where ˇ>xD0. Thus, logistic regression\\nﬁnds a linear separator . (Many of you have seen SVMs. They also ﬁnd a linear\\nseparator, but non-probabilistic.)\\nFurthermore, those of you who know about SVMs know about the margin .\\nIntuitively, SVMs don’t care about points that are easy to classify; rather, they\\ntry to separate the points that are difﬁcult.\\nLoosely, the same idea applies here (Hastie et al., 2009).', metadata={'source': '/content/drive/MyDrive/RAG/glms.pdf', 'page': 5}),\n",
              " Document(page_content='\\x0fThe argument to the logistic, ˇ>xnis the scaled distance to the separator.\\nIt is scaled byjjˇjj.\\n\\x0fWhat happens to the likelihood of a data point as we get further away\\nfrom the separator? See the plot of the logistic function. What is the\\ndifference between two points one inch apart near the separator and two\\npoints one inch apart far from the separator?\\n6', metadata={'source': '/content/drive/MyDrive/RAG/glms.pdf', 'page': 5}),\n",
              " Document(page_content='\\x0fThis means that the probability of the data changes most near the line.\\n\\x0fThus, when we maximize likelihood, what will we focus on? The margin!\\n2.1 Fitting logistic regression with maximum likelihood\\nOur data aref.xn;yn/gpairs (e.g., email features and spam/not spam). Just\\nas we did for linear regression, we ﬁt logistic regression by maximizing the\\nconditional likelihood ,\\nOˇDarg max\\nˇNX\\nnD1logp.ynjxn;ˇ/: (17)\\nThe objective is\\nLDNX\\nnD1ynlog\\x16.ˇ>xn/C.1\\x00yn/log.1\\x00\\x16.ˇ>xn//: (18)', metadata={'source': '/content/drive/MyDrive/RAG/glms.pdf', 'page': 6}),\n",
              " Document(page_content='Deﬁne\\x16n≜\\x16.ˇ>xn/, and do not lose sight that it depends on ˇ. Deﬁne Ln\\nto be thenth term in the conditional likelihood, LDPN\\nnD1Ln. We ﬁnd the\\nderivative of the full conditional likelihood with the chain rule on each term,\\ndLn\\ndˇiDNX\\nnD1dLn\\nd\\x16nd\\x16n\\ndˇi: (19)\\nThe ﬁrst term is\\ndL\\\\\\nd\\x16nDyn\\n\\x16n\\x00.1\\x00yn/\\n1\\x00\\x16n(20)\\nWe use the chain rule again to compute the second term. The derivative of the\\nlogistic with respect to its argument \\x11is\\nd\\x16.\\x11/\\nd\\x11D\\x16.\\x11/.1\\x00\\x16.\\x11//: (21)\\n(This is an exercise.) Now apply the chain rule', metadata={'source': '/content/drive/MyDrive/RAG/glms.pdf', 'page': 6}),\n",
              " Document(page_content='d\\x16n\\ndˇiDd\\x16n\\ndˇ>xndˇ>xn\\ndˇi(22)\\nD\\x16n.1\\x00\\x16n/xni (23)\\n7', metadata={'source': '/content/drive/MyDrive/RAG/glms.pdf', 'page': 6}),\n",
              " Document(page_content='With this reasoning, the derivative of each term is\\ndL\\\\\\ndˇiD\\x12yn\\n\\x16n\\x001\\x00yn\\n1\\x00\\x16n\\x13\\n\\x16n.1\\x00\\x16n/xni (24)\\nD..yn.1\\x00\\x16n/\\x00.1\\x00yn/\\x16n/xni (25)\\nD.yn\\x00yn\\x16n\\x00\\x16nCyn\\x16n/xni (26)\\nD.yn\\x00\\x16n/xni (27)\\nSo, the full derivative is\\ndL\\ndˇiDNX\\nnD1.yn\\x00\\x16.ˇ>xn//xni (28)\\nLogistic regression algorithms ﬁt the objective with gradient methods, such\\nas Newton’s method. Nice closed-form solutions, like the normal equations\\nin linear regression, are not available. But the likelihood is convex; there is a\\nunique solution.', metadata={'source': '/content/drive/MyDrive/RAG/glms.pdf', 'page': 7}),\n",
              " Document(page_content='unique solution.\\nNote that EŒynjxn\\x8dDp.ynjxn/D\\x16.ˇ>xn/. Recall the linear regression\\nderivative. (Warning: In the equation below ynis real valued.)\\ndL\\ndˇiDNX\\nnD1.yn\\x00ˇ>xn/xni (29)\\nFurther recall that in linear regression, EŒynjxn\\x8dDˇ>xn.\\nBoth the linear regression and logistic regression derivatives have the form\\nNX\\nnD1.yn\\x00EŒyjxn;ˇ\\x8d/xni (30)\\n(Something is happening here... more later.)\\n3 Generalized linear models\\nLinear regression and logistic regression are both linear models . The coefﬁcient', metadata={'source': '/content/drive/MyDrive/RAG/glms.pdf', 'page': 7}),\n",
              " Document(page_content='ˇenters the distribution of ynthrough a linear combination of xn. The difference\\nis in the type of the response. In linear regression the response is real valued; in\\nlogistic regression the response is binary.\\nLinear and logistic regression are instances for a more general class of models,\\ngeneralized linear models (GLMs) (McCullagh and Nelder, 1989). In addition\\n8', metadata={'source': '/content/drive/MyDrive/RAG/glms.pdf', 'page': 7}),\n",
              " Document(page_content='to real and binary responses, GLMs can handle categorical, positive real, positive\\ninteger, and ordinal responses.\\nThe idea behind logistic and linear regression: The conditional expectation of\\nyndepends onxnthrough a function of a linear relationship,\\nEŒynjxn;ˇ\\x8dDf.ˇ>xn/D\\x16n\\nIn linear regression, fis the identity; in logistic regression, fis the logistic.\\nFinally, GLMs endow ynwith a distribution that depends on \\x16n. In linear regres-', metadata={'source': '/content/drive/MyDrive/RAG/glms.pdf', 'page': 8}),\n",
              " Document(page_content='sion, the distribution is a Gaussian; in logistic regression, it is a Bernoulli.\\nThe generic GLM has the following form,\\np.ynjxn/Dlogh.yn/expf\\x11>\\nnyn\\x00a.\\x11n/g (31)\\n\\x11nD .\\x16n/ (32)\\n\\x16nDf.ˇ>xn/ (33)\\nNote:\\n\\x0fThe inputxnenters the model through ˇ>xn.\\n\\x0fThe conditional mean \\x16nis a function f.ˇ>xn/called the response\\nfunction orlink function .\\n\\x0fResponseynhas conditional mean \\x16n.\\n\\x0fIts natural parameter is denoted \\x11nD .\\x16n/.\\nGLMs let us build probabilistic predictors of many kinds of responses.', metadata={'source': '/content/drive/MyDrive/RAG/glms.pdf', 'page': 8}),\n",
              " Document(page_content='There are two choices to make in a GLM: the distribution of the response yand\\nthe function that gives us its mean f.ˇ>x/. The distribution is usually deter-\\nmined by the form of y(e.g., Gaussian for real, Poisson for integer, Bernoulli\\nfor binary). The response function is somewhat constrained—it must give a\\nmean in the right space for the distribution of y—but also offers some freedom.\\nFor example, we can use a logistic function or a probit function when modeling', metadata={'source': '/content/drive/MyDrive/RAG/glms.pdf', 'page': 8}),\n",
              " Document(page_content='binary data because both map the reals to .0;1/ .\\nThere is a special response function called the canonical response function .\\nIt isfD \\x001, which maps a natural parameter to the conditional mean that\\ngives that natural parameter. When we use the canonical response function, the\\nnatural parameter isˇ>xn,\\np.ynjxn/Dh.yn/expf.ˇ>xn/>t.yn/\\x00a.\\x11n/g: (34)\\n9', metadata={'source': '/content/drive/MyDrive/RAG/glms.pdf', 'page': 8}),\n",
              " Document(page_content='The logistic function (for binary response) and identity function (for real re-\\nsponse) are examples of canonical response functions.\\n3.1 Fitting a GLM\\nWe ﬁt GLM methods with gradient optimization. It sufﬁces to investigate the\\nlikelihood and its derivative.\\nThe data are input/response pairs f.xn;yn/g. The conditional likelihood is\\nL.ˇID/DNX\\nnD1h.yn/C\\x11>\\nnt.yn/\\x00a.\\x11n/; (35)\\nand recall that \\x11nis a function of ˇandxn(viafand ).\\nDeﬁne each term to be Ln. The gradient is\\nrˇLDNX\\nnD1r\\x11nLnrˇ\\x11n (36)\\nDNX', metadata={'source': '/content/drive/MyDrive/RAG/glms.pdf', 'page': 9}),\n",
              " Document(page_content='DNX\\nnD1.t.yn/\\x00r\\x11na.\\x11n//rˇ\\x11n (37)\\nDNX\\nnD1.t.yn/\\x00EŒYjxn;ˇ\\x8d/.r\\x16n\\x11n/.rˇ>xn\\x16n/xn (38)\\nIn a canonical GLM, \\x11nDˇ>xnandrˇ\\x11nDxn. Therefore,\\nrˇLDNX\\nnD1.t.yn/\\x00EŒYjxn;ˇ\\x8d/xn (39)\\nRecall that the logistic and linear regression derivatives had this form. These\\nare examples of generalized linear models with canonical links.\\nOn small data sets, ﬁtting generalized linear models is easy in R. Simply use\\ntheglmcommand.\\nReferences\\nHastie, T., Tibshirani, R., and Friedman, J. (2009). The Elements of Statistical', metadata={'source': '/content/drive/MyDrive/RAG/glms.pdf', 'page': 9}),\n",
              " Document(page_content='Learning . Springer, 2 edition.\\n10', metadata={'source': '/content/drive/MyDrive/RAG/glms.pdf', 'page': 9}),\n",
              " Document(page_content='McCullagh, P. and Nelder, J. A. (1989). Generalized Linear Models . London:\\nChapman and Hall.\\nNg, A. and Jordan, M. (2002). On discriminative versus generative classiﬁers:\\nA comparison of logistic regression and naive Bayes. In Advances in Neural\\nInformation Processing Systems 14 .\\n11', metadata={'source': '/content/drive/MyDrive/RAG/glms.pdf', 'page': 10})]"
            ]
          },
          "metadata": {},
          "execution_count": 61
        }
      ]
    },
    {
      "cell_type": "code",
      "source": [
        "from huggingface_hub import notebook_login\n",
        "notebook_login()"
      ],
      "metadata": {
        "colab": {
          "base_uri": "https://localhost:8080/",
          "height": 113,
          "referenced_widgets": [
            "9db19659e2044bea9935774277895007",
            "c96082268981421398b4226f71d66d3f",
            "03cfd1aef0274073a1c40c27531dc335",
            "36a073acde9a4d6691cb80803b68bc81",
            "2e26f1bc2131412c86195b9539c5b9f5",
            "0c2db9c5a1fd4bb99f13a3bf535beca3",
            "b512743f21994b4fa1349689985d9b5f",
            "a6ccd625a0424b7c9abb39842274ea48",
            "cbdd77f3ef0f4199b07d678e0687312e",
            "d9c759822f4d475fb8bef5ff19797c54",
            "5c5370218fa2461ba41b20dbf10c04f4",
            "161f8b69e44c406e8aa674567e96c4ed",
            "c13bad15c24947838f87841f0e0b0e9f",
            "4a071d8bf4a14352ab5416ab30d19d14",
            "0f8b067968d649308c5c2d1a6da5d062",
            "543a0986c1d34e70a5206118eb2901a9",
            "dbb0b3ccbcef4bb5babf6ff08da8ceb7",
            "6829eb0715e74cafa5304a23a29e475d",
            "c429a0d8e9324473b2ceaba90701eb83",
            "9885d2c8352747c8be27984d07f539e7",
            "5b1bcea738294189a7e700bc87c1024a",
            "6855b430b58d44d581cc0704b5584aa5",
            "dfc2e9e005064574a8d298423b8da2b3",
            "3b8fbf2d82464012ba82d7e8915def1c",
            "1304e08472154cae817ec2e348c67e41",
            "02f213d83359456b97cf5536c14a384c",
            "ff27239d8dfc4819b007ba7baed7ab05",
            "f246164a189544d291c3af5099639a98",
            "98dc451dad254a4ab60159ceb7ae15bb"
          ]
        },
        "id": "EXvSAgfFA6ZI",
        "outputId": "cb9ac971-def6-4adb-b0fd-0e6d05bb169a"
      },
      "execution_count": null,
      "outputs": [
        {
          "output_type": "display_data",
          "data": {
            "text/plain": [
              "VBox(children=(HTML(value='<center> <img\\nsrc=https://huggingface.co/front/assets/huggingface_logo-noborder.sv…"
            ],
            "application/vnd.jupyter.widget-view+json": {
              "version_major": 2,
              "version_minor": 0,
              "model_id": "9db19659e2044bea9935774277895007"
            }
          },
          "metadata": {}
        }
      ]
    },
    {
      "cell_type": "code",
      "source": [
        "embeddings=HuggingFaceHubEmbeddings()\n",
        "doc_search=Chroma.from_documents(docs,embeddings)"
      ],
      "metadata": {
        "id": "NLYTNh5XL5Z3"
      },
      "execution_count": null,
      "outputs": []
    },
    {
      "cell_type": "code",
      "source": [
        "query='What is linear regression?'\n",
        "similar_docs = doc_search.similarity_search(query, k=3)"
      ],
      "metadata": {
        "id": "e22WKAOSMZBT"
      },
      "execution_count": null,
      "outputs": []
    },
    {
      "cell_type": "code",
      "source": [
        "similar_docs"
      ],
      "metadata": {
        "colab": {
          "base_uri": "https://localhost:8080/"
        },
        "id": "_Q8lHqo6_5Zw",
        "outputId": "205b7bad-ad6c-4862-9b17-75f92d85f697"
      },
      "execution_count": null,
      "outputs": [
        {
          "output_type": "execute_result",
          "data": {
            "text/plain": [
              "[Document(page_content='Its simplicity and ﬂexibility makes linear regression one of the most important\\nand widely used statistical prediction methods. There are courses and sequences\\nof courses devoted to linear regression.\\n1.1 Fitting a regression\\nGiven dataf.xn;yn/gN\\nnD1, ﬁnd the coefﬁcients ˇthat best predict ynewfrom\\nxnew. For simplicity, assume that xnis a scalar and the intercept ˇ0is zero.\\n(In general we can assume ˇ0D0by centering the response variables before\\nanalyzing them.) There is only one coefﬁcient ˇ.', metadata={'page': 1, 'source': '/content/drive/MyDrive/RAG/glms.pdf'}),\n",
              " Document(page_content='\\x0fGiven the stock price today, what will it be tomorrow?\\n\\x0fGiven today’s precipitation, what will it be in a week?\\n\\x0fGiven my mother’s height, what is my shoe size?\\n\\x0fOthers? Where have you seen linear regression?\\nIn the literature, we assume there are pcovariates and we ﬁt a linear function to\\npredict the response,\\nf.x/Dˇ0CpX\\niD1ˇixi: (1)\\nThe vectorˇcontains thepcoefﬁcients ;ˇ0is the intercept .\\nThis set-up is less limiting than you might imagine. The covariates can be\\nﬂexible. Examples:', metadata={'page': 0, 'source': '/content/drive/MyDrive/RAG/glms.pdf'}),\n",
              " Document(page_content='Linear regression, Logistic regression,\\nand Generalized Linear Models\\nDavid M. Blei\\nColumbia University\\nNovember 18, 2014\\n1 Linear Regression\\nLinear regression helps solve the problem of predicting a real-valued variable y,\\ncalled the response , from a vector of inputs x, called the covariates .\\nThe goal is to predict yfromxwith a linear function. Here is a picture.\\n[one covariate and a response, and the best ﬁt line]\\nHere are some examples.', metadata={'page': 0, 'source': '/content/drive/MyDrive/RAG/glms.pdf'})]"
            ]
          },
          "metadata": {},
          "execution_count": 64
        }
      ]
    },
    {
      "cell_type": "markdown",
      "source": [
        "# Creating a chain with LLM"
      ],
      "metadata": {
        "id": "3k27lfpIAE__"
      }
    },
    {
      "cell_type": "code",
      "source": [
        "repo_id=\"tiiuae/falcon-7b\"\n",
        "llm=HuggingFaceHub(huggingfacehub_api_token=os.environ[\"HUGGING_FACE_HUB_API_KEY\"],\n",
        "                   repo_id=repo_id,model_kwargs={'temperature':0.2,'max-length':1000})"
      ],
      "metadata": {
        "colab": {
          "base_uri": "https://localhost:8080/"
        },
        "id": "EpA-Z_n8AEn6",
        "outputId": "bfc5588c-7320-42e2-d1f8-9e469716d720"
      },
      "execution_count": null,
      "outputs": [
        {
          "output_type": "stream",
          "name": "stderr",
          "text": [
            "/usr/local/lib/python3.10/dist-packages/langchain_core/_api/deprecation.py:117: LangChainDeprecationWarning: The class `langchain_community.llms.huggingface_hub.HuggingFaceHub` was deprecated in langchain-community 0.0.21 and will be removed in 0.2.0. Use HuggingFaceEndpoint instead.\n",
            "  warn_deprecated(\n"
          ]
        }
      ]
    },
    {
      "cell_type": "code",
      "source": [
        "retrieval_chain=RetrievalQA.from_chain_type(llm,chain_type='stuff',retriever=doc_search.as_retriever())"
      ],
      "metadata": {
        "id": "3FvrG0BoG01E"
      },
      "execution_count": null,
      "outputs": []
    },
    {
      "cell_type": "code",
      "source": [
        "query='what is the difference between linear and logistic regression?'\n",
        "retrieval_chain.run(query)"
      ],
      "metadata": {
        "colab": {
          "base_uri": "https://localhost:8080/",
          "height": 140
        },
        "id": "MveQFehVHjD2",
        "outputId": "64696aad-ccc2-4317-bc73-169a2b390f9f"
      },
      "execution_count": null,
      "outputs": [
        {
          "output_type": "execute_result",
          "data": {
            "text/plain": [
              "\"Use the following pieces of context to answer the question at the end. If you don't know the answer, just say that you don't know, don't try to make up an answer.\\n\\nˇenters the distribution of ynthrough a linear combination of xn. The difference\\nis in the type of the response. In linear regression the response is real valued; in\\nlogistic regression the response is binary.\\nLinear and logistic regression are instances for a more general class of models,\\ngeneralized linear models (GLMs) (McCullagh and Nelder, 1989). In addition\\n8\\n\\nto real and binary responses, GLMs can handle categorical, positive real, positive\\ninteger, and ordinal responses.\\nThe idea behind logistic and linear regression: The conditional expectation of\\nyndepends onxnthrough a function of a linear relationship,\\nEŒynjxn;ˇ\\x8dDf.ˇ>xn/D\\x16n\\nIn linear regression, fis the identity; in logistic regression, fis the logistic.\\nFinally, GLMs endow ynwith a distribution that depends on \\x16n. In linear regres-\\n\\nLinear regression, Logistic regression,\\nand Generalized Linear Models\\nDavid M. Blei\\nColumbia University\\nNovember 18, 2014\\n1 Linear Regression\\nLinear regression helps solve the problem of predicting a real-valued variable y,\\ncalled the response , from a vector of inputs x, called the covariates .\\nThe goal is to predict yfromxwith a linear function. Here is a picture.\\n[one covariate and a response, and the best ﬁt line]\\nHere are some examples.\\n\\nunique solution.\\nNote that EŒynjxn\\x8dDp.ynjxn/D\\x16.ˇ>xn/. Recall the linear regression\\nderivative. (Warning: In the equation below ynis real valued.)\\ndL\\ndˇiDNX\\nnD1.yn\\x00ˇ>xn/xni (29)\\nFurther recall that in linear regression, EŒynjxn\\x8dDˇ>xn.\\nBoth the linear regression and logistic regression derivatives have the form\\nNX\\nnD1.yn\\x00EŒyjxn;ˇ\\x8d/xni (30)\\n(Something is happening here... more later.)\\n3 Generalized linear models\\nLinear regression and logistic regression are both linear models . The coefﬁcient\\n\\nQuestion: what is the difference between linear and logistic regression?\\nHelpful Answer:\\nThe difference is in the type of the response. In linear regression the response\\nis real valued; in logistic regression the response is binary.\\n\\nThe difference is in the type of the response. In linear regression the response\\nis real valued; in logistic regression the response is binary.\\n\\nThe difference is in the type of the response. In linear regression the response\\nis real valued; in logistic regression the response is binary.\\n\\nThe difference is in the type of the response\""
            ],
            "application/vnd.google.colaboratory.intrinsic+json": {
              "type": "string"
            }
          },
          "metadata": {},
          "execution_count": 69
        }
      ]
    },
    {
      "cell_type": "code",
      "source": [
        "query2='assumptions'\n",
        "retrieval_chain.run(query2)"
      ],
      "metadata": {
        "colab": {
          "base_uri": "https://localhost:8080/",
          "height": 140
        },
        "id": "ot4WOJtjIIow",
        "outputId": "b2b8926e-c6b6-4682-e118-720e571fb56a"
      },
      "execution_count": null,
      "outputs": [
        {
          "output_type": "execute_result",
          "data": {
            "text/plain": [
              "\"Use the following pieces of context to answer the question at the end. If you don't know the answer, just say that you don't know, don't try to make up an answer.\\n\\nrelevant\\nresponses.\\n\\n18\\n\\nissues, and facilitate debugging. \\n \\n4.1.9. Scalability \\n\\uf0b7 The project is designed with scalability in mind to accommodate a growing user \\nbase and increasing demand for generated courses. \\n \\n4.1.10. Testing and Quality Assurance \\n\\uf0b7 Various testing stages, including unit testing, integration testing, and user testing, \\nensure that the system is reliable, efficient, and free from defects. \\n \\n4.1.11. Maintenance and Updates\\n\\n10 \\n content, ensuring accessibility and data redundancy. \\n \\n4.1.7. Security and Authorization \\n\\uf0b7 Robust security measures, including encryption and authentication, protect user \\ndata and ensure secure access to the system. \\n\\uf0b7 Authorization mechanisms control data privacy and access, ensuring that users \\ncan access only the data and functionalities they are authorized for. \\n \\n4.1.8. Monitoring and Logging \\n\\uf0b7 Monitoring tools and log management systems track system performance, identify\\n\\nQuestion: assumptions\\nHelpful Answer:\\n\\n1.1.1.1.1.1.1.1.1.1.1.1.1.1.1.1.1.1.1.1.1.1.1.1.1.1.1.1.1.1.1.1.1.1.1.1.1.1.1.1.1.1.1.1.1.1.1.1.1.\""
            ],
            "application/vnd.google.colaboratory.intrinsic+json": {
              "type": "string"
            }
          },
          "metadata": {},
          "execution_count": 70
        }
      ]
    },
    {
      "cell_type": "code",
      "source": [],
      "metadata": {
        "id": "CIp30mZPIorv"
      },
      "execution_count": null,
      "outputs": []
    }
  ]
}